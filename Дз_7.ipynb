{
 "cells": [
  {
   "cell_type": "markdown",
   "id": "c4282539",
   "metadata": {},
   "source": [
    "***Половников Никита***"
   ]
  },
  {
   "cell_type": "code",
   "execution_count": 1,
   "id": "555ce5b4",
   "metadata": {},
   "outputs": [],
   "source": [
    "import pandas as pd\n",
    "import numpy as np\n",
    "import scipy.stats as sp\n",
    "import matplotlib.pyplot as plt\n",
    "import seaborn as sns\n",
    "import datetime"
   ]
  },
  {
   "cell_type": "markdown",
   "id": "9c55e87a",
   "metadata": {},
   "source": [
    "**Для работы был выбран датасет базы пользователей Netflix.**\n",
    "\n",
    "https://www.kaggle.com/datasets/arnavsmayan/netflix-userbase-dataset/data"
   ]
  },
  {
   "cell_type": "code",
   "execution_count": 2,
   "id": "b75fe724",
   "metadata": {},
   "outputs": [],
   "source": [
    "data = pd.read_csv('Netflix_Userbase.csv')"
   ]
  },
  {
   "cell_type": "code",
   "execution_count": 3,
   "id": "80885bce",
   "metadata": {},
   "outputs": [
    {
     "data": {
      "text/html": [
       "<div>\n",
       "<style scoped>\n",
       "    .dataframe tbody tr th:only-of-type {\n",
       "        vertical-align: middle;\n",
       "    }\n",
       "\n",
       "    .dataframe tbody tr th {\n",
       "        vertical-align: top;\n",
       "    }\n",
       "\n",
       "    .dataframe thead th {\n",
       "        text-align: right;\n",
       "    }\n",
       "</style>\n",
       "<table border=\"1\" class=\"dataframe\">\n",
       "  <thead>\n",
       "    <tr style=\"text-align: right;\">\n",
       "      <th></th>\n",
       "      <th>User ID</th>\n",
       "      <th>Subscription Type</th>\n",
       "      <th>Monthly Revenue</th>\n",
       "      <th>Join Date</th>\n",
       "      <th>Last Payment Date</th>\n",
       "      <th>Country</th>\n",
       "      <th>Age</th>\n",
       "      <th>Gender</th>\n",
       "      <th>Device</th>\n",
       "      <th>Plan Duration</th>\n",
       "    </tr>\n",
       "  </thead>\n",
       "  <tbody>\n",
       "    <tr>\n",
       "      <th>0</th>\n",
       "      <td>1</td>\n",
       "      <td>Basic</td>\n",
       "      <td>10</td>\n",
       "      <td>15-01-22</td>\n",
       "      <td>10-06-23</td>\n",
       "      <td>United States</td>\n",
       "      <td>28</td>\n",
       "      <td>Male</td>\n",
       "      <td>Smartphone</td>\n",
       "      <td>1 Month</td>\n",
       "    </tr>\n",
       "    <tr>\n",
       "      <th>1</th>\n",
       "      <td>2</td>\n",
       "      <td>Premium</td>\n",
       "      <td>15</td>\n",
       "      <td>05-09-21</td>\n",
       "      <td>22-06-23</td>\n",
       "      <td>Canada</td>\n",
       "      <td>35</td>\n",
       "      <td>Female</td>\n",
       "      <td>Tablet</td>\n",
       "      <td>1 Month</td>\n",
       "    </tr>\n",
       "    <tr>\n",
       "      <th>2</th>\n",
       "      <td>3</td>\n",
       "      <td>Standard</td>\n",
       "      <td>12</td>\n",
       "      <td>28-02-23</td>\n",
       "      <td>27-06-23</td>\n",
       "      <td>United Kingdom</td>\n",
       "      <td>42</td>\n",
       "      <td>Male</td>\n",
       "      <td>Smart TV</td>\n",
       "      <td>1 Month</td>\n",
       "    </tr>\n",
       "    <tr>\n",
       "      <th>3</th>\n",
       "      <td>4</td>\n",
       "      <td>Standard</td>\n",
       "      <td>12</td>\n",
       "      <td>10-07-22</td>\n",
       "      <td>26-06-23</td>\n",
       "      <td>Australia</td>\n",
       "      <td>51</td>\n",
       "      <td>Female</td>\n",
       "      <td>Laptop</td>\n",
       "      <td>1 Month</td>\n",
       "    </tr>\n",
       "    <tr>\n",
       "      <th>4</th>\n",
       "      <td>5</td>\n",
       "      <td>Basic</td>\n",
       "      <td>10</td>\n",
       "      <td>01-05-23</td>\n",
       "      <td>28-06-23</td>\n",
       "      <td>Germany</td>\n",
       "      <td>33</td>\n",
       "      <td>Male</td>\n",
       "      <td>Smartphone</td>\n",
       "      <td>1 Month</td>\n",
       "    </tr>\n",
       "    <tr>\n",
       "      <th>...</th>\n",
       "      <td>...</td>\n",
       "      <td>...</td>\n",
       "      <td>...</td>\n",
       "      <td>...</td>\n",
       "      <td>...</td>\n",
       "      <td>...</td>\n",
       "      <td>...</td>\n",
       "      <td>...</td>\n",
       "      <td>...</td>\n",
       "      <td>...</td>\n",
       "    </tr>\n",
       "    <tr>\n",
       "      <th>2495</th>\n",
       "      <td>2496</td>\n",
       "      <td>Premium</td>\n",
       "      <td>14</td>\n",
       "      <td>25-07-22</td>\n",
       "      <td>12-07-23</td>\n",
       "      <td>Spain</td>\n",
       "      <td>28</td>\n",
       "      <td>Female</td>\n",
       "      <td>Smart TV</td>\n",
       "      <td>1 Month</td>\n",
       "    </tr>\n",
       "    <tr>\n",
       "      <th>2496</th>\n",
       "      <td>2497</td>\n",
       "      <td>Basic</td>\n",
       "      <td>15</td>\n",
       "      <td>04-08-22</td>\n",
       "      <td>14-07-23</td>\n",
       "      <td>Spain</td>\n",
       "      <td>33</td>\n",
       "      <td>Female</td>\n",
       "      <td>Smart TV</td>\n",
       "      <td>1 Month</td>\n",
       "    </tr>\n",
       "    <tr>\n",
       "      <th>2497</th>\n",
       "      <td>2498</td>\n",
       "      <td>Standard</td>\n",
       "      <td>12</td>\n",
       "      <td>09-08-22</td>\n",
       "      <td>15-07-23</td>\n",
       "      <td>United States</td>\n",
       "      <td>38</td>\n",
       "      <td>Male</td>\n",
       "      <td>Laptop</td>\n",
       "      <td>1 Month</td>\n",
       "    </tr>\n",
       "    <tr>\n",
       "      <th>2498</th>\n",
       "      <td>2499</td>\n",
       "      <td>Standard</td>\n",
       "      <td>13</td>\n",
       "      <td>12-08-22</td>\n",
       "      <td>12-07-23</td>\n",
       "      <td>Canada</td>\n",
       "      <td>48</td>\n",
       "      <td>Female</td>\n",
       "      <td>Tablet</td>\n",
       "      <td>1 Month</td>\n",
       "    </tr>\n",
       "    <tr>\n",
       "      <th>2499</th>\n",
       "      <td>2500</td>\n",
       "      <td>Basic</td>\n",
       "      <td>15</td>\n",
       "      <td>13-08-22</td>\n",
       "      <td>12-07-23</td>\n",
       "      <td>United States</td>\n",
       "      <td>35</td>\n",
       "      <td>Female</td>\n",
       "      <td>Smart TV</td>\n",
       "      <td>1 Month</td>\n",
       "    </tr>\n",
       "  </tbody>\n",
       "</table>\n",
       "<p>2500 rows × 10 columns</p>\n",
       "</div>"
      ],
      "text/plain": [
       "      User ID Subscription Type  Monthly Revenue Join Date Last Payment Date  \\\n",
       "0           1             Basic               10  15-01-22          10-06-23   \n",
       "1           2           Premium               15  05-09-21          22-06-23   \n",
       "2           3          Standard               12  28-02-23          27-06-23   \n",
       "3           4          Standard               12  10-07-22          26-06-23   \n",
       "4           5             Basic               10  01-05-23          28-06-23   \n",
       "...       ...               ...              ...       ...               ...   \n",
       "2495     2496           Premium               14  25-07-22          12-07-23   \n",
       "2496     2497             Basic               15  04-08-22          14-07-23   \n",
       "2497     2498          Standard               12  09-08-22          15-07-23   \n",
       "2498     2499          Standard               13  12-08-22          12-07-23   \n",
       "2499     2500             Basic               15  13-08-22          12-07-23   \n",
       "\n",
       "             Country  Age  Gender      Device Plan Duration  \n",
       "0      United States   28    Male  Smartphone       1 Month  \n",
       "1             Canada   35  Female      Tablet       1 Month  \n",
       "2     United Kingdom   42    Male    Smart TV       1 Month  \n",
       "3          Australia   51  Female      Laptop       1 Month  \n",
       "4            Germany   33    Male  Smartphone       1 Month  \n",
       "...              ...  ...     ...         ...           ...  \n",
       "2495           Spain   28  Female    Smart TV       1 Month  \n",
       "2496           Spain   33  Female    Smart TV       1 Month  \n",
       "2497   United States   38    Male      Laptop       1 Month  \n",
       "2498          Canada   48  Female      Tablet       1 Month  \n",
       "2499   United States   35  Female    Smart TV       1 Month  \n",
       "\n",
       "[2500 rows x 10 columns]"
      ]
     },
     "execution_count": 3,
     "metadata": {},
     "output_type": "execute_result"
    }
   ],
   "source": [
    "data"
   ]
  },
  {
   "cell_type": "code",
   "execution_count": 4,
   "id": "141012ba",
   "metadata": {},
   "outputs": [],
   "source": [
    "a = data['Join Date']\n",
    "a = a.to_list()"
   ]
  },
  {
   "cell_type": "code",
   "execution_count": 5,
   "id": "ca7909ae",
   "metadata": {},
   "outputs": [],
   "source": [
    "for i in range(len(a)): a[i] = datetime.datetime.strptime(a[i],'%d-%m-%y')"
   ]
  },
  {
   "cell_type": "code",
   "execution_count": 6,
   "id": "03c6e3a3",
   "metadata": {},
   "outputs": [],
   "source": [
    "delta = []\n",
    "for i in range(len(a)):\n",
    "    delta.append((datetime.datetime.today().date() - a[i].date()).days)\n"
   ]
  },
  {
   "cell_type": "code",
   "execution_count": 7,
   "id": "db213ab6",
   "metadata": {},
   "outputs": [],
   "source": [
    "data['Days Using'] = delta"
   ]
  },
  {
   "cell_type": "code",
   "execution_count": 8,
   "id": "f031d8c9",
   "metadata": {},
   "outputs": [
    {
     "data": {
      "text/html": [
       "<div>\n",
       "<style scoped>\n",
       "    .dataframe tbody tr th:only-of-type {\n",
       "        vertical-align: middle;\n",
       "    }\n",
       "\n",
       "    .dataframe tbody tr th {\n",
       "        vertical-align: top;\n",
       "    }\n",
       "\n",
       "    .dataframe thead th {\n",
       "        text-align: right;\n",
       "    }\n",
       "</style>\n",
       "<table border=\"1\" class=\"dataframe\">\n",
       "  <thead>\n",
       "    <tr style=\"text-align: right;\">\n",
       "      <th></th>\n",
       "      <th>User ID</th>\n",
       "      <th>Subscription Type</th>\n",
       "      <th>Monthly Revenue</th>\n",
       "      <th>Join Date</th>\n",
       "      <th>Last Payment Date</th>\n",
       "      <th>Country</th>\n",
       "      <th>Age</th>\n",
       "      <th>Gender</th>\n",
       "      <th>Device</th>\n",
       "      <th>Plan Duration</th>\n",
       "      <th>Days Using</th>\n",
       "    </tr>\n",
       "  </thead>\n",
       "  <tbody>\n",
       "    <tr>\n",
       "      <th>0</th>\n",
       "      <td>1</td>\n",
       "      <td>Basic</td>\n",
       "      <td>10</td>\n",
       "      <td>15-01-22</td>\n",
       "      <td>10-06-23</td>\n",
       "      <td>United States</td>\n",
       "      <td>28</td>\n",
       "      <td>Male</td>\n",
       "      <td>Smartphone</td>\n",
       "      <td>1 Month</td>\n",
       "      <td>710</td>\n",
       "    </tr>\n",
       "    <tr>\n",
       "      <th>1</th>\n",
       "      <td>2</td>\n",
       "      <td>Premium</td>\n",
       "      <td>15</td>\n",
       "      <td>05-09-21</td>\n",
       "      <td>22-06-23</td>\n",
       "      <td>Canada</td>\n",
       "      <td>35</td>\n",
       "      <td>Female</td>\n",
       "      <td>Tablet</td>\n",
       "      <td>1 Month</td>\n",
       "      <td>842</td>\n",
       "    </tr>\n",
       "    <tr>\n",
       "      <th>2</th>\n",
       "      <td>3</td>\n",
       "      <td>Standard</td>\n",
       "      <td>12</td>\n",
       "      <td>28-02-23</td>\n",
       "      <td>27-06-23</td>\n",
       "      <td>United Kingdom</td>\n",
       "      <td>42</td>\n",
       "      <td>Male</td>\n",
       "      <td>Smart TV</td>\n",
       "      <td>1 Month</td>\n",
       "      <td>301</td>\n",
       "    </tr>\n",
       "    <tr>\n",
       "      <th>3</th>\n",
       "      <td>4</td>\n",
       "      <td>Standard</td>\n",
       "      <td>12</td>\n",
       "      <td>10-07-22</td>\n",
       "      <td>26-06-23</td>\n",
       "      <td>Australia</td>\n",
       "      <td>51</td>\n",
       "      <td>Female</td>\n",
       "      <td>Laptop</td>\n",
       "      <td>1 Month</td>\n",
       "      <td>534</td>\n",
       "    </tr>\n",
       "    <tr>\n",
       "      <th>4</th>\n",
       "      <td>5</td>\n",
       "      <td>Basic</td>\n",
       "      <td>10</td>\n",
       "      <td>01-05-23</td>\n",
       "      <td>28-06-23</td>\n",
       "      <td>Germany</td>\n",
       "      <td>33</td>\n",
       "      <td>Male</td>\n",
       "      <td>Smartphone</td>\n",
       "      <td>1 Month</td>\n",
       "      <td>239</td>\n",
       "    </tr>\n",
       "    <tr>\n",
       "      <th>...</th>\n",
       "      <td>...</td>\n",
       "      <td>...</td>\n",
       "      <td>...</td>\n",
       "      <td>...</td>\n",
       "      <td>...</td>\n",
       "      <td>...</td>\n",
       "      <td>...</td>\n",
       "      <td>...</td>\n",
       "      <td>...</td>\n",
       "      <td>...</td>\n",
       "      <td>...</td>\n",
       "    </tr>\n",
       "    <tr>\n",
       "      <th>2495</th>\n",
       "      <td>2496</td>\n",
       "      <td>Premium</td>\n",
       "      <td>14</td>\n",
       "      <td>25-07-22</td>\n",
       "      <td>12-07-23</td>\n",
       "      <td>Spain</td>\n",
       "      <td>28</td>\n",
       "      <td>Female</td>\n",
       "      <td>Smart TV</td>\n",
       "      <td>1 Month</td>\n",
       "      <td>519</td>\n",
       "    </tr>\n",
       "    <tr>\n",
       "      <th>2496</th>\n",
       "      <td>2497</td>\n",
       "      <td>Basic</td>\n",
       "      <td>15</td>\n",
       "      <td>04-08-22</td>\n",
       "      <td>14-07-23</td>\n",
       "      <td>Spain</td>\n",
       "      <td>33</td>\n",
       "      <td>Female</td>\n",
       "      <td>Smart TV</td>\n",
       "      <td>1 Month</td>\n",
       "      <td>509</td>\n",
       "    </tr>\n",
       "    <tr>\n",
       "      <th>2497</th>\n",
       "      <td>2498</td>\n",
       "      <td>Standard</td>\n",
       "      <td>12</td>\n",
       "      <td>09-08-22</td>\n",
       "      <td>15-07-23</td>\n",
       "      <td>United States</td>\n",
       "      <td>38</td>\n",
       "      <td>Male</td>\n",
       "      <td>Laptop</td>\n",
       "      <td>1 Month</td>\n",
       "      <td>504</td>\n",
       "    </tr>\n",
       "    <tr>\n",
       "      <th>2498</th>\n",
       "      <td>2499</td>\n",
       "      <td>Standard</td>\n",
       "      <td>13</td>\n",
       "      <td>12-08-22</td>\n",
       "      <td>12-07-23</td>\n",
       "      <td>Canada</td>\n",
       "      <td>48</td>\n",
       "      <td>Female</td>\n",
       "      <td>Tablet</td>\n",
       "      <td>1 Month</td>\n",
       "      <td>501</td>\n",
       "    </tr>\n",
       "    <tr>\n",
       "      <th>2499</th>\n",
       "      <td>2500</td>\n",
       "      <td>Basic</td>\n",
       "      <td>15</td>\n",
       "      <td>13-08-22</td>\n",
       "      <td>12-07-23</td>\n",
       "      <td>United States</td>\n",
       "      <td>35</td>\n",
       "      <td>Female</td>\n",
       "      <td>Smart TV</td>\n",
       "      <td>1 Month</td>\n",
       "      <td>500</td>\n",
       "    </tr>\n",
       "  </tbody>\n",
       "</table>\n",
       "<p>2500 rows × 11 columns</p>\n",
       "</div>"
      ],
      "text/plain": [
       "      User ID Subscription Type  Monthly Revenue Join Date Last Payment Date  \\\n",
       "0           1             Basic               10  15-01-22          10-06-23   \n",
       "1           2           Premium               15  05-09-21          22-06-23   \n",
       "2           3          Standard               12  28-02-23          27-06-23   \n",
       "3           4          Standard               12  10-07-22          26-06-23   \n",
       "4           5             Basic               10  01-05-23          28-06-23   \n",
       "...       ...               ...              ...       ...               ...   \n",
       "2495     2496           Premium               14  25-07-22          12-07-23   \n",
       "2496     2497             Basic               15  04-08-22          14-07-23   \n",
       "2497     2498          Standard               12  09-08-22          15-07-23   \n",
       "2498     2499          Standard               13  12-08-22          12-07-23   \n",
       "2499     2500             Basic               15  13-08-22          12-07-23   \n",
       "\n",
       "             Country  Age  Gender      Device Plan Duration  Days Using  \n",
       "0      United States   28    Male  Smartphone       1 Month         710  \n",
       "1             Canada   35  Female      Tablet       1 Month         842  \n",
       "2     United Kingdom   42    Male    Smart TV       1 Month         301  \n",
       "3          Australia   51  Female      Laptop       1 Month         534  \n",
       "4            Germany   33    Male  Smartphone       1 Month         239  \n",
       "...              ...  ...     ...         ...           ...         ...  \n",
       "2495           Spain   28  Female    Smart TV       1 Month         519  \n",
       "2496           Spain   33  Female    Smart TV       1 Month         509  \n",
       "2497   United States   38    Male      Laptop       1 Month         504  \n",
       "2498          Canada   48  Female      Tablet       1 Month         501  \n",
       "2499   United States   35  Female    Smart TV       1 Month         500  \n",
       "\n",
       "[2500 rows x 11 columns]"
      ]
     },
     "execution_count": 8,
     "metadata": {},
     "output_type": "execute_result"
    }
   ],
   "source": [
    "data"
   ]
  },
  {
   "cell_type": "markdown",
   "id": "5e26af70",
   "metadata": {},
   "source": [
    "# Сформировать двухвыборочные гипотезы касательно медиан и распределений для дискретного и непрерывного случая. Если дискретного показателя нет - создайте его дополнительно. Итого 4 гипотезы (4 пункта)."
   ]
  },
  {
   "cell_type": "markdown",
   "id": "b6163cc3",
   "metadata": {},
   "source": [
    "**Гипотезы распределений**\n",
    "\n",
    "Тест колмагорова - непр. распр. (М и Ж количество дней на платформе)\n",
    "\n",
    "Тест пирсона - дискр. распр. (М и Ж типы подписки)\n",
    "\n",
    "\n",
    "**Гипотезы о равенстве медиан**\n",
    "\n",
    "\n",
    "Критерий Мана-Уитни - Медиана Monthly Revenue(дискретный случай (М и Ж))\n",
    "\n",
    "Мана-Уитни - медиана возраста (непрерывный случай(М и Ж)) "
   ]
  },
  {
   "cell_type": "markdown",
   "id": "1aefe5db",
   "metadata": {},
   "source": [
    "***Зафиксируем для каждого теста уровень значимости*** \n",
    "\n",
    "$\\alpha = 0.05$"
   ]
  },
  {
   "cell_type": "markdown",
   "id": "0e1c218d",
   "metadata": {},
   "source": [
    "### 1. $ \\mathbb{H_0}$:  распределения количества дней пользования сервисом у мужчин  и женщин одинаковы. "
   ]
  },
  {
   "cell_type": "markdown",
   "id": "492deda3",
   "metadata": {},
   "source": [
    "***Критрий Колмогорова***\n",
    "\n",
    "Воспользуемся критерием однородности Колмогорова, т.к. он используется для проверки гипотезы о принадлежности двух независимых выборок одному закону распределения в непрерывном случае."
   ]
  },
  {
   "cell_type": "code",
   "execution_count": 9,
   "id": "84260ed6",
   "metadata": {},
   "outputs": [],
   "source": [
    "days_using = data[['Days Using', 'Gender']]\n",
    "male_days_using = days_using[days_using['Gender'] == 'Male']['Days Using']\n",
    "female_days_using = days_using[days_using['Gender'] == 'Female']['Days Using']\n"
   ]
  },
  {
   "cell_type": "code",
   "execution_count": 10,
   "id": "3cc179ad",
   "metadata": {},
   "outputs": [
    {
     "data": {
      "text/plain": [
       "KstestResult(statistic=0.02858393639224526, pvalue=0.670981894092662, statistic_location=415, statistic_sign=-1)"
      ]
     },
     "execution_count": 10,
     "metadata": {},
     "output_type": "execute_result"
    }
   ],
   "source": [
    "sp.kstest(male_days_using, female_days_using)"
   ]
  },
  {
   "cell_type": "markdown",
   "id": "fef9d206",
   "metadata": {},
   "source": [
    "***p-val >*** $\\normalsize \\alpha$ ***=> принимаем нулевую гипотезу***"
   ]
  },
  {
   "cell_type": "markdown",
   "id": "369bfd9a",
   "metadata": {},
   "source": [
    "### 2. $ \\mathbb{H_0}$:  распределения типов подписки мужчин  и женщин одинаковы. "
   ]
  },
  {
   "cell_type": "markdown",
   "id": "c84429ef",
   "metadata": {},
   "source": [
    "***Критерий Пирсона***\n",
    "\n",
    "Воспользуемся критерием Пирсона, т.к. он используется для проверки гипотезы о принадлежности двух независимых выборок одному закону распределения в дискретном случае."
   ]
  },
  {
   "cell_type": "code",
   "execution_count": 11,
   "id": "ccc719f3",
   "metadata": {},
   "outputs": [],
   "source": [
    "sub_type = data[['Subscription Type', 'Gender']]\n",
    "male_sub_type = sub_type[sub_type['Gender'] == 'Male']['Subscription Type']\n",
    "female_sub_type = sub_type[sub_type['Gender'] == 'Female']['Subscription Type']\n"
   ]
  },
  {
   "cell_type": "code",
   "execution_count": 12,
   "id": "792abd6c",
   "metadata": {},
   "outputs": [
    {
     "data": {
      "text/plain": [
       "[[512, 381, 364], [487, 387, 369]]"
      ]
     },
     "execution_count": 12,
     "metadata": {},
     "output_type": "execute_result"
    }
   ],
   "source": [
    "arr = [list(female_sub_type.value_counts()),list(male_sub_type.value_counts())]\n",
    "arr"
   ]
  },
  {
   "cell_type": "code",
   "execution_count": 13,
   "id": "69ea8110",
   "metadata": {},
   "outputs": [
    {
     "data": {
      "text/plain": [
       "Chi2ContingencyResult(statistic=0.6282267388216123, pvalue=0.7304362143419852, dof=2, expected_freq=array([[502.2972, 386.1504, 368.5524],\n",
       "       [496.7028, 381.8496, 364.4476]]))"
      ]
     },
     "execution_count": 13,
     "metadata": {},
     "output_type": "execute_result"
    }
   ],
   "source": [
    "sp.chi2_contingency(arr)"
   ]
  },
  {
   "cell_type": "markdown",
   "id": "de9f838a",
   "metadata": {},
   "source": [
    "***p-val >*** $\\normalsize \\alpha$ ***=> принимаем нулевую гипотезу***"
   ]
  },
  {
   "cell_type": "markdown",
   "id": "dc2cfd9b",
   "metadata": {},
   "source": [
    "### 3. $ \\mathbb{H_0}$:  медианы возрастов мужчин  и женщин одинаковы. "
   ]
  },
  {
   "cell_type": "markdown",
   "id": "654645b3",
   "metadata": {},
   "source": [
    "***Критерий Мана-Уитни***\n",
    "\n",
    "Воспользуемся критерием Мана-Уитни, т.к. он используется для проверки гипотезы о равенстве функций распределения двух выборок против альтернативной гипотезы об их сдвиге."
   ]
  },
  {
   "cell_type": "code",
   "execution_count": 14,
   "id": "6654d934",
   "metadata": {},
   "outputs": [],
   "source": [
    "age = data[['Gender', 'Age']]\n",
    "male_age = age[age['Gender'] == 'Male']['Age']\n",
    "female_age = age[age['Gender'] == 'Female']['Age']"
   ]
  },
  {
   "cell_type": "code",
   "execution_count": 15,
   "id": "74dddd1a",
   "metadata": {},
   "outputs": [
    {
     "data": {
      "text/plain": [
       "MannwhitneyuResult(statistic=745214.5, pvalue=0.045805284421959414)"
      ]
     },
     "execution_count": 15,
     "metadata": {},
     "output_type": "execute_result"
    }
   ],
   "source": [
    "sp.mannwhitneyu(male_age, female_age)"
   ]
  },
  {
   "cell_type": "markdown",
   "id": "810a22d5",
   "metadata": {},
   "source": [
    "***p-val < $\\normalsize \\alpha$ => отвергаем нулевую гипотезу***"
   ]
  },
  {
   "cell_type": "code",
   "execution_count": 16,
   "id": "acc41f2e",
   "metadata": {},
   "outputs": [
    {
     "data": {
      "text/plain": [
       "<matplotlib.legend.Legend at 0x1d1847f7dd0>"
      ]
     },
     "execution_count": 16,
     "metadata": {},
     "output_type": "execute_result"
    },
    {
     "data": {
      "image/png": "[encoded data removed]",
      "text/plain": [
       "<Figure size 640x480 with 1 Axes>"
      ]
     },
     "metadata": {},
     "output_type": "display_data"
    }
   ],
   "source": [
    "sns.kdeplot(male_age, label='male')\n",
    "sns.kdeplot(female_age, label='female')\n",
    "plt.legend()"
   ]
  },
  {
   "cell_type": "markdown",
   "id": "c0d46bdc",
   "metadata": {},
   "source": [
    "### 4. $ \\mathbb{H_0}$:  медианы заработков платформы с мужчин  и женщин одинаковы. \n"
   ]
  },
  {
   "cell_type": "markdown",
   "id": "69bd1bd5",
   "metadata": {},
   "source": [
    "***Критерий Мана-Уитни***\n",
    "\n",
    "Воспользуемся критерием Мана-Уитни, т.к. он используется для проверки гипотезы о равенстве функций распределения двух выборок против альтернативной гипотезы об их сдвиге."
   ]
  },
  {
   "cell_type": "code",
   "execution_count": 17,
   "id": "eb308312",
   "metadata": {},
   "outputs": [],
   "source": [
    "revenue = data[['Monthly Revenue', 'Gender']]\n",
    "male_revenue = revenue[revenue['Gender'] == 'Male']['Monthly Revenue']\n",
    "female_revenue = revenue[revenue['Gender'] == 'Female']['Monthly Revenue']"
   ]
  },
  {
   "cell_type": "code",
   "execution_count": 18,
   "id": "63a78d34",
   "metadata": {},
   "outputs": [
    {
     "data": {
      "text/plain": [
       "MannwhitneyuResult(statistic=775585.0, pvalue=0.751232906998015)"
      ]
     },
     "execution_count": 18,
     "metadata": {},
     "output_type": "execute_result"
    }
   ],
   "source": [
    "sp.mannwhitneyu(male_revenue, female_revenue)"
   ]
  },
  {
   "cell_type": "markdown",
   "id": "275974d9",
   "metadata": {},
   "source": [
    "***p-val > $\\normalsize \\alpha$ => принимаем нулевую гипотезу***"
   ]
  },
  {
   "cell_type": "code",
   "execution_count": 19,
   "id": "fc910d51",
   "metadata": {},
   "outputs": [
    {
     "data": {
      "text/plain": [
       "<matplotlib.legend.Legend at 0x1d186168a10>"
      ]
     },
     "execution_count": 19,
     "metadata": {},
     "output_type": "execute_result"
    },
    {
     "data": {
      "image/png": "[encoded data removed]",
      "text/plain": [
       "<Figure size 640x480 with 1 Axes>"
      ]
     },
     "metadata": {},
     "output_type": "display_data"
    }
   ],
   "source": [
    "sns.kdeplot(male_revenue, label='male')\n",
    "sns.kdeplot(female_revenue, label='female')\n",
    "plt.legend()"
   ]
  },
  {
   "cell_type": "markdown",
   "id": "024f7b59",
   "metadata": {},
   "source": [
    "### 5. Проверка результатов бутстрапом"
   ]
  },
  {
   "cell_type": "markdown",
   "id": "ed5514d9",
   "metadata": {},
   "source": [
    "###  $ \\mathbb{H_0}$:  распределения количества дней пользования сервисом у мужчин  и женщин одинаковы. "
   ]
  },
  {
   "cell_type": "code",
   "execution_count": 20,
   "id": "4ddcba01",
   "metadata": {},
   "outputs": [
    {
     "name": "stdout",
     "output_type": "stream",
     "text": [
      "Наблюдаемая статистика Колмогорова: 0.02858393639224526\n",
      "p-value: 0.923\n",
      "Принимаем нулевую гипотезу - медианы одинаковы.\n"
     ]
    }
   ],
   "source": [
    "observed_statistic = sp.kstest(male_days_using, female_days_using).statistic\n",
    "\n",
    "bootstrap_statistics = []\n",
    "\n",
    "for _ in range(1000):\n",
    "    bootstrap_male_days_using = np.random.choice(male_days_using, size = len(male_days_using), replace=True)\n",
    "    bootstrap_female_days_using = np.random.choice(female_days_using, size = len(female_days_using), replace=True)\n",
    "    bootstrap_statistic = sp.kstest(bootstrap_male_days_using, bootstrap_female_days_using).statistic\n",
    "    bootstrap_statistics.append(bootstrap_statistic)\n",
    "    bootstrap_statistic = 0\n",
    "    \n",
    "p_value = np.mean(np.array(bootstrap_statistics) >= observed_statistic)\n",
    "\n",
    "# Вывод результатов\n",
    "print(\"Наблюдаемая статистика Колмогорова:\", observed_statistic)\n",
    "print(\"p-value:\", p_value)\n",
    "\n",
    "# Проверка статистической значимости (обычно p-значение < 0.05)\n",
    "if p_value < 0.05:\n",
    "    print(\"Отвергаем нулевую гипотезу - медианы различны.\")\n",
    "else:\n",
    "    print(\"Принимаем нулевую гипотезу - медианы одинаковы.\")"
   ]
  },
  {
   "cell_type": "markdown",
   "id": "04859397",
   "metadata": {},
   "source": [
    "pvalue=0.67098189409266"
   ]
  },
  {
   "cell_type": "markdown",
   "id": "144504ea",
   "metadata": {},
   "source": [
    "**Результаты бутстрапа показали лучшую точность в сравнении с Критерием Колмогорова.**"
   ]
  },
  {
   "cell_type": "markdown",
   "id": "0294c289",
   "metadata": {},
   "source": [
    "Оценим при помощи бутстрапа 4 момента (<ins>***мат. ожидание***</ins> , <ins>***дисперсию***</ins>, <ins>***коэффициент асимметрии***</ins> (симметричность распределения), <ins>***коэффициент эксцесса***</ins>(тяжесть хвостов распределения)"
   ]
  },
  {
   "cell_type": "code",
   "execution_count": 21,
   "id": "3d5c07b5",
   "metadata": {},
   "outputs": [
    {
     "name": "stdout",
     "output_type": "stream",
     "text": [
      "Д.И. для мат. ожидания: \n",
      "\n",
      "мужчин: [ 482.359 , 489.474 ]\n",
      "среднее значение мужчин: 485.79163314561544\n",
      "женщин: [ 479.349 , 485.757 ]\n",
      "среднее значение женщин: 482.72155926809864 \n",
      "\n",
      "Д.И. для дисперсии: \n",
      "\n",
      "мужчин: [ 3599.356 , 4806.168 ]\n",
      "дисперсия у мужчин: 4170.475871968367\n",
      "женщин: [ 3474.679 , 4398.164 ]\n",
      "дисперсия у женщин: 3936.850752980762 \n",
      "\n",
      "Д.И. для коэффициента ассиметрии: \n",
      "\n",
      "мужчин: [ 0.014 , 0.977 ]\n",
      "коэффициент ассиметрии у мужчин: 0.5257298603579299\n",
      "женщин: [ -0.067 , 0.679 ]\n",
      "коэффициент ассиметрии у женщин: 0.30289913335099744 \n",
      "\n",
      "Д.И. для коэффициента эксцесса: \n",
      "\n",
      "мужчин: [ 2.899 , 5.3 ]\n",
      "коэффициент эксцесса у мужчин: 4.231724527549778\n",
      "женщин: [ 1.25 , 3.826 ]\n",
      "коэффициент эксцесса у женщин: 2.515264629639182 \n",
      "\n"
     ]
    }
   ],
   "source": [
    "means_list_1 = []\n",
    "means_list_2 = []\n",
    "\n",
    "vars_list_1 = []\n",
    "vars_list_2 = []\n",
    "\n",
    "skews_list_1 = []\n",
    "skews_list_2 = []\n",
    "\n",
    "kurts_list_1 = []\n",
    "kurts_list_2 = []\n",
    "\n",
    "for _ in range(1000):\n",
    "    means_temp_1 = np.random.choice(male_days_using, size = len(male_days_using), replace=True)\n",
    "    means_list_1.append(np.mean(means_temp_1))\n",
    "    means_temp_2 = np.random.choice(female_days_using, size = len(female_days_using), replace=True)\n",
    "    means_list_2.append(np.mean(means_temp_2))\n",
    "    \n",
    "    vars_temp_1 = np.random.choice(male_days_using, size = len(male_days_using), replace=True)\n",
    "    vars_list_1.append(np.var(vars_temp_1))\n",
    "    vars_temp_2 = np.random.choice(female_days_using, size = len(female_days_using), replace=True)\n",
    "    vars_list_2.append(np.var(vars_temp_2))\n",
    "   \n",
    "    skew_temp_1 = np.random.choice(male_days_using, size = len(male_days_using), replace=True)\n",
    "    skews_list_1.append(sp.skew(skew_temp_1))\n",
    "    skew_temp_2 = np.random.choice(female_days_using, size = len(female_days_using), replace=True)\n",
    "    skews_list_2.append(sp.skew(skew_temp_2))  \n",
    "    \n",
    "    kurt_temp_1 = np.random.choice(male_days_using, size = len(male_days_using), replace=True)\n",
    "    kurts_list_1.append(sp.kurtosis(kurt_temp_1))\n",
    "    kurt_temp_2 = np.random.choice(female_days_using, size = len(female_days_using), replace=True)\n",
    "    kurts_list_2.append(sp.kurtosis(kurt_temp_2))\n",
    "\n",
    "means_left_1 = np.percentile(means_list_1, q=[2.5, 97.5]).round(3)[0]\n",
    "means_right_1 = np.percentile(means_list_1, q=[2.5, 97.5]).round(3)[1]\n",
    "\n",
    "means_left_2 = np.percentile(means_list_2, q=[2.5, 97.5]).round(3)[0]\n",
    "means_right_2 = np.percentile(means_list_2, q=[2.5, 97.5]).round(3)[1]\n",
    "\n",
    "print('Д.И. для мат. ожидания:','\\n')\n",
    "print('мужчин: [', means_left_1, ',', means_right_1,']')\n",
    "print('среднее значение мужчин:',male_days_using.mean())\n",
    "print('женщин: [', means_left_2, ',', means_right_2,']')\n",
    "print('среднее значение женщин:',female_days_using.mean(), '\\n')\n",
    "\n",
    "\n",
    "vars_left_1 = np.percentile(vars_list_1, q=[2.5, 97.5]).round(3)[0]\n",
    "vars_right_1 = np.percentile(vars_list_1, q=[2.5, 97.5]).round(3)[1]\n",
    "\n",
    "vars_left_2 = np.percentile(vars_list_2, q=[2.5, 97.5]).round(3)[0]\n",
    "vars_right_2 = np.percentile(vars_list_2, q=[2.5, 97.5]).round(3)[1]\n",
    "\n",
    "print('Д.И. для дисперсии:','\\n')\n",
    "print('мужчин: [', vars_left_1, ',', vars_right_1,']')\n",
    "print('дисперсия у мужчин:', male_days_using.var())\n",
    "print('женщин: [', vars_left_2, ',', vars_right_2,']')\n",
    "print('дисперсия у женщин:',female_days_using.var(), '\\n')\n",
    "\n",
    "\n",
    "skews_left_1 = np.percentile(skews_list_1, q=[2.5, 97.5]).round(3)[0]\n",
    "skews_right_1 = np.percentile(skews_list_1, q=[2.5, 97.5]).round(3)[1]\n",
    "\n",
    "skews_left_2 = np.percentile(skews_list_2, q=[2.5, 97.5]).round(3)[0]\n",
    "skews_right_2 = np.percentile(skews_list_2, q=[2.5, 97.5]).round(3)[1]\n",
    "\n",
    "print('Д.И. для коэффициента ассиметрии:','\\n')\n",
    "print('мужчин: [', skews_left_1, ',', skews_right_1,']')\n",
    "print('коэффициент ассиметрии у мужчин:', male_days_using.skew())\n",
    "print('женщин: [', skews_left_2, ',', skews_right_2,']')\n",
    "print('коэффициент ассиметрии у женщин:',female_days_using.skew(), '\\n')\n",
    "\n",
    "\n",
    "kurts_left_1 = np.percentile(kurts_list_1, q=[2.5, 97.5]).round(3)[0]\n",
    "kurts_right_1 = np.percentile(kurts_list_1, q=[2.5, 97.5]).round(3)[1]\n",
    "\n",
    "kurts_left_2 = np.percentile(kurts_list_2, q=[2.5, 97.5]).round(3)[0]\n",
    "kurts_right_2 = np.percentile(kurts_list_2, q=[2.5, 97.5]).round(3)[1]\n",
    "\n",
    "print('Д.И. для коэффициента эксцесса:','\\n')\n",
    "print('мужчин: [', kurts_left_1, ',', kurts_right_1,']')\n",
    "print('коэффициент эксцесса у мужчин:', male_days_using.kurt())\n",
    "print('женщин: [', kurts_left_2, ',', kurts_right_2,']')\n",
    "print('коэффициент эксцесса у женщин:',female_days_using.kurt(), '\\n')"
   ]
  },
  {
   "cell_type": "code",
   "execution_count": 22,
   "id": "aa4baffb",
   "metadata": {},
   "outputs": [
    {
     "data": {
      "image/png": "[encoded data removed]",
      "text/plain": [
       "<Figure size 640x480 with 1 Axes>"
      ]
     },
     "metadata": {},
     "output_type": "display_data"
    }
   ],
   "source": [
    "sns.kdeplot(male_days_using, label='male')\n",
    "sns.kdeplot(female_days_using, label='female')\n",
    "\n",
    "plt.legend()\n",
    "plt.grid()"
   ]
  },
  {
   "cell_type": "markdown",
   "id": "d73a6f54",
   "metadata": {},
   "source": [
    "### $ \\mathbb{H_0}$:  медианы возрастов мужчин  и женщин одинаковы. "
   ]
  },
  {
   "cell_type": "code",
   "execution_count": 23,
   "id": "6253c9c3",
   "metadata": {},
   "outputs": [
    {
     "name": "stdout",
     "output_type": "stream",
     "text": [
      "Наблюдаемая статистика Мана-Уитни: 745214.5\n",
      "p-value: 0.509\n",
      "Принимаем нулевую гипотезу - медианы одинаковы.\n"
     ]
    }
   ],
   "source": [
    "observed_statistic = sp.mannwhitneyu(male_age, female_age).statistic\n",
    "\n",
    "bootstrap_statistics = []\n",
    "\n",
    "for _ in range(1000):\n",
    "    bootstrap_male_age = np.random.choice(male_age, size = len(male_age), replace=True)\n",
    "    bootstrap_female_age = np.random.choice(female_age, size = len(female_age), replace=True)\n",
    "    bootstrap_statistic = sp.mannwhitneyu(bootstrap_male_age, bootstrap_female_age).statistic\n",
    "    bootstrap_statistics.append(bootstrap_statistic)\n",
    "    bootstrap_statistic = 0\n",
    "    \n",
    "p_value = np.mean(np.array(bootstrap_statistics) >= observed_statistic)\n",
    "\n",
    "# Вывод результатов\n",
    "print(\"Наблюдаемая статистика Мана-Уитни:\", observed_statistic)\n",
    "print(\"p-value:\", p_value)\n",
    "\n",
    "# Проверка статистической значимости (обычно p-значение < 0.05)\n",
    "if p_value < 0.05:\n",
    "    print(\"Отвергаем нулевую гипотезу - медианы различны.\")\n",
    "else:\n",
    "    print(\"Принимаем нулевую гипотезу - медианы одинаковы.\")"
   ]
  },
  {
   "cell_type": "markdown",
   "id": "ae6323aa",
   "metadata": {},
   "source": [
    "Тест Мана-Уитни:\n",
    "\n",
    "pvalue=0.045"
   ]
  },
  {
   "cell_type": "markdown",
   "id": "d4385f40",
   "metadata": {},
   "source": [
    "**В данном случае тест Мана-Уитни показал лучший результат.**\n",
    "\n",
    "Чтобы убедиться в этом оценим моменты и медиану бутстрапом."
   ]
  },
  {
   "cell_type": "code",
   "execution_count": 24,
   "id": "6f2c308a",
   "metadata": {},
   "outputs": [
    {
     "name": "stdout",
     "output_type": "stream",
     "text": [
      "Д.И. для мат. ожидания: \n",
      "\n",
      "мужчин: [ 38.088 , 38.872 ]\n",
      "среднее значение мужчин: 38.51005631536605\n",
      "женщин: [ 38.666 , 39.488 ]\n",
      "среднее значение женщин: 39.077963404932376 \n",
      "\n",
      "Д.И. для дисперсии: \n",
      "\n",
      "мужчин: [ 48.507 , 53.699 ]\n",
      "дисперсия у мужчин: 51.22111457009507\n",
      "женщин: [ 48.941 , 53.869 ]\n",
      "дисперсия у женщин: 51.52576400184443 \n",
      "\n",
      "Д.И. для коэффициента ассиметрии: \n",
      "\n",
      "мужчин: [ 0.005 , 0.159 ]\n",
      "коэффициент ассиметрии у мужчин: 0.08272281244469663\n",
      "женщин: [ -0.102 , 0.053 ]\n",
      "коэффициент ассиметрии у женщин: -0.02463780419108591 \n",
      "\n",
      "Д.И. для коэффициента эксцесса: \n",
      "\n",
      "мужчин: [ -1.234 , -1.092 ]\n",
      "коэффициент эксцесса у мужчин: -1.1712973317527071\n",
      "женщин: [ -1.276 , -1.15 ]\n",
      "коэффициент эксцесса у женщин: -1.2179916524255465 \n",
      "\n",
      "Д.И. для Медианы: \n",
      "\n",
      "мужчин: [ 38.0 , 39.0 ]\n",
      "медиана возраста у мужчин: 38.0\n",
      "женщин: [ 39.0 , 40.0 ]\n",
      "медиана возраста у женщин: 39.0 \n",
      "\n"
     ]
    }
   ],
   "source": [
    "means_list_1 = []\n",
    "means_list_2 = []\n",
    "\n",
    "vars_list_1 = []\n",
    "vars_list_2 = []\n",
    "\n",
    "skews_list_1 = []\n",
    "skews_list_2 = []\n",
    "\n",
    "kurts_list_1 = []\n",
    "kurts_list_2 = []\n",
    "\n",
    "medians_list_1 = []\n",
    "medians_list_2 = []\n",
    "\n",
    "\n",
    "for _ in range(1000):\n",
    "    means_temp_1 = np.random.choice(male_age, size = len(male_age), replace=True)\n",
    "    means_list_1.append(np.mean(means_temp_1))\n",
    "    means_temp_2 = np.random.choice(female_age, size = len(female_age), replace=True)\n",
    "    means_list_2.append(np.mean(means_temp_2))\n",
    "    \n",
    "    vars_temp_1 = np.random.choice(male_age, size = len(male_age), replace=True)\n",
    "    vars_list_1.append(np.var(vars_temp_1))\n",
    "    vars_temp_2 = np.random.choice(female_age, size = len(female_age), replace=True)\n",
    "    vars_list_2.append(np.var(vars_temp_2))\n",
    "   \n",
    "    skew_temp_1 = np.random.choice(male_age, size = len(male_age), replace=True)\n",
    "    skews_list_1.append(sp.skew(skew_temp_1))\n",
    "    skew_temp_2 = np.random.choice(female_age, size = len(female_age), replace=True)\n",
    "    skews_list_2.append(sp.skew(skew_temp_2))  \n",
    "    \n",
    "    kurt_temp_1 = np.random.choice(male_age, size = len(male_age), replace=True)\n",
    "    kurts_list_1.append(sp.kurtosis(kurt_temp_1))\n",
    "    kurt_temp_2 = np.random.choice(female_age, size = len(female_age), replace=True)\n",
    "    kurts_list_2.append(sp.kurtosis(kurt_temp_2))\n",
    "\n",
    "    median_temp_1 = np.random.choice(male_age, size = len(male_age), replace=True)\n",
    "    medians_list_1.append(np.median(median_temp_1))\n",
    "    median_temp_2 = np.random.choice(female_age, size = len(female_age), replace=True)\n",
    "    medians_list_2.append(np.median(median_temp_2))\n",
    "    \n",
    "means_left_1 = np.percentile(means_list_1, q=[2.5, 97.5]).round(3)[0]\n",
    "means_right_1 = np.percentile(means_list_1, q=[2.5, 97.5]).round(3)[1]\n",
    "\n",
    "means_left_2 = np.percentile(means_list_2, q=[2.5, 97.5]).round(3)[0]\n",
    "means_right_2 = np.percentile(means_list_2, q=[2.5, 97.5]).round(3)[1]\n",
    "\n",
    "print('Д.И. для мат. ожидания:','\\n')\n",
    "print('мужчин: [', means_left_1, ',', means_right_1,']')\n",
    "print('среднее значение мужчин:',male_age.mean())\n",
    "print('женщин: [', means_left_2, ',', means_right_2,']')\n",
    "print('среднее значение женщин:',female_age.mean(), '\\n')\n",
    "\n",
    "\n",
    "vars_left_1 = np.percentile(vars_list_1, q=[2.5, 97.5]).round(3)[0]\n",
    "vars_right_1 = np.percentile(vars_list_1, q=[2.5, 97.5]).round(3)[1]\n",
    "\n",
    "vars_left_2 = np.percentile(vars_list_2, q=[2.5, 97.5]).round(3)[0]\n",
    "vars_right_2 = np.percentile(vars_list_2, q=[2.5, 97.5]).round(3)[1]\n",
    "\n",
    "print('Д.И. для дисперсии:','\\n')\n",
    "print('мужчин: [', vars_left_1, ',', vars_right_1,']')\n",
    "print('дисперсия у мужчин:', male_age.var())\n",
    "print('женщин: [', vars_left_2, ',', vars_right_2,']')\n",
    "print('дисперсия у женщин:',female_age.var(), '\\n')\n",
    "\n",
    "\n",
    "skews_left_1 = np.percentile(skews_list_1, q=[2.5, 97.5]).round(3)[0]\n",
    "skews_right_1 = np.percentile(skews_list_1, q=[2.5, 97.5]).round(3)[1]\n",
    "\n",
    "skews_left_2 = np.percentile(skews_list_2, q=[2.5, 97.5]).round(3)[0]\n",
    "skews_right_2 = np.percentile(skews_list_2, q=[2.5, 97.5]).round(3)[1]\n",
    "\n",
    "print('Д.И. для коэффициента ассиметрии:','\\n')\n",
    "print('мужчин: [', skews_left_1, ',', skews_right_1,']')\n",
    "print('коэффициент ассиметрии у мужчин:', male_age.skew())\n",
    "print('женщин: [', skews_left_2, ',', skews_right_2,']')\n",
    "print('коэффициент ассиметрии у женщин:',female_age.skew(), '\\n')\n",
    "\n",
    "\n",
    "kurts_left_1 = np.percentile(kurts_list_1, q=[2.5, 97.5]).round(3)[0]\n",
    "kurts_right_1 = np.percentile(kurts_list_1, q=[2.5, 97.5]).round(3)[1]\n",
    "\n",
    "kurts_left_2 = np.percentile(kurts_list_2, q=[2.5, 97.5]).round(3)[0]\n",
    "kurts_right_2 = np.percentile(kurts_list_2, q=[2.5, 97.5]).round(3)[1]\n",
    "\n",
    "print('Д.И. для коэффициента эксцесса:','\\n')\n",
    "print('мужчин: [', kurts_left_1, ',', kurts_right_1,']')\n",
    "print('коэффициент эксцесса у мужчин:', male_age.kurt())\n",
    "print('женщин: [', kurts_left_2, ',', kurts_right_2,']')\n",
    "print('коэффициент эксцесса у женщин:',female_age.kurt(), '\\n')\n",
    "\n",
    "medians_left_1 = np.percentile(medians_list_1, q=[2.5, 97.5]).round(3)[0]\n",
    "medians_right_1 = np.percentile(medians_list_1, q=[2.5, 97.5]).round(3)[1]\n",
    "\n",
    "medians_left_2 = np.percentile(medians_list_2, q=[2.5, 97.5]).round(3)[0]\n",
    "medians_right_2 = np.percentile(medians_list_2, q=[2.5, 97.5]).round(3)[1]\n",
    "\n",
    "print('Д.И. для Медианы:','\\n')\n",
    "print('мужчин: [', medians_left_1, ',', medians_right_1,']')\n",
    "print('медиана возраста у мужчин:', male_age.median())\n",
    "print('женщин: [', medians_left_2, ',', medians_right_2,']')\n",
    "print('медиана возраста у женщин:',female_age.median(), '\\n')"
   ]
  },
  {
   "cell_type": "markdown",
   "id": "a5ec18a1",
   "metadata": {},
   "source": [
    "***Как можно заметить, Д.И. медиан у мужчин и женщин не пересекаются. Это опровергает гипотезу о равенстве медиан и подтверждает, что тест Мана-Уитни на данном примере сработал лучше.***\n",
    "\n",
    "***Также по оценке среднего, можно понять, что в данных имеется сдвиг.***"
   ]
  },
  {
   "cell_type": "code",
   "execution_count": 25,
   "id": "c05cc6a5",
   "metadata": {},
   "outputs": [
    {
     "data": {
      "image/png": "[encoded data removed]",
      "text/plain": [
       "<Figure size 640x480 with 1 Axes>"
      ]
     },
     "metadata": {},
     "output_type": "display_data"
    }
   ],
   "source": [
    "sns.kdeplot(male_age, label='male')\n",
    "sns.kdeplot(female_age, label='female')\n",
    "\n",
    "plt.legend()\n",
    "plt.grid()"
   ]
  },
  {
   "cell_type": "markdown",
   "id": "45663be8",
   "metadata": {},
   "source": [
    "### $ \\mathbb{H_0}$:  распределения типов подписки мужчин  и женщин одинаковы. "
   ]
  },
  {
   "cell_type": "code",
   "execution_count": 26,
   "id": "0951c029",
   "metadata": {},
   "outputs": [
    {
     "name": "stdout",
     "output_type": "stream",
     "text": [
      "Наблюдаемая статистика хи-квадрат: 0.6282267388216123\n",
      "p-value: 0.877\n",
      "Принимаем нулевую гипотезу - распределения одинаковы.\n"
     ]
    }
   ],
   "source": [
    "sub_type = [list(female_sub_type.value_counts()),list(male_sub_type.value_counts())]\n",
    "\n",
    "observed_statistic = sp.chi2_contingency(sub_type, None).statistic\n",
    "\n",
    "bootstrap_statistics = []\n",
    "for _ in range(10000):\n",
    "    bootstrap_sample_data = [np.random.choice(sub_type[0], size = 3, replace=True),\n",
    "                             np.random.choice(sub_type[1], size = 3, replace=True) ]\n",
    "    bootstrap_statistic = sp.chi2_contingency(bootstrap_sample_data).statistic\n",
    "    bootstrap_statistics.append(bootstrap_statistic)\n",
    "    bootstrap_sample_data = [[],[]]\n",
    "    bootstrap_statistic = 0\n",
    "    \n",
    "p_value = np.mean(bootstrap_statistics >= observed_statistic)\n",
    "\n",
    "# Вывод результатов\n",
    "print(\"Наблюдаемая статистика хи-квадрат:\", observed_statistic)\n",
    "print(\"p-value:\", p_value)\n",
    "\n",
    "# Проверка статистической значимости (обычно p-значение < 0.05)\n",
    "if p_value < 0.05:\n",
    "    print(\"Отвергаем нулевую гипотезу - распределения различны.\")\n",
    "else:\n",
    "    print(\"Принимаем нулевую гипотезу - распределения одинаковы.\")"
   ]
  },
  {
   "cell_type": "markdown",
   "id": "9567f943",
   "metadata": {},
   "source": [
    "Критерий Пирсона:\n",
    "\n",
    "pvalue=0.7304362143419852\n"
   ]
  },
  {
   "cell_type": "markdown",
   "id": "64d6fcc4",
   "metadata": {},
   "source": [
    "**В данном случае бутстрап оказался мощнее критерия Пирсона.**\n"
   ]
  },
  {
   "cell_type": "code",
   "execution_count": 27,
   "id": "e7b1af92",
   "metadata": {},
   "outputs": [
    {
     "data": {
      "text/plain": [
       "<matplotlib.legend.Legend at 0x1d184ea8a10>"
      ]
     },
     "execution_count": 27,
     "metadata": {},
     "output_type": "execute_result"
    },
    {
     "data": {
      "image/png": "[encoded data removed]",
      "text/plain": [
       "<Figure size 640x480 with 1 Axes>"
      ]
     },
     "metadata": {},
     "output_type": "display_data"
    }
   ],
   "source": [
    "sns.kdeplot(female_sub_type.value_counts(), label='female')\n",
    "sns.kdeplot(male_sub_type.value_counts(), label='male')\n",
    "plt.legend()"
   ]
  },
  {
   "cell_type": "markdown",
   "id": "c706c057",
   "metadata": {},
   "source": [
    "### $ \\mathbb{H_0}$:  медианы заработков платформы с мужчин  и женщин одинаковы. "
   ]
  },
  {
   "cell_type": "code",
   "execution_count": 28,
   "id": "3c60cbb5",
   "metadata": {},
   "outputs": [
    {
     "name": "stdout",
     "output_type": "stream",
     "text": [
      "Наблюдаемая статистика Мана-Уитни: 775585.0\n",
      "p-value: 0.486\n",
      "Принимаем нулевую гипотезу - медианы одинаковы.\n"
     ]
    }
   ],
   "source": [
    "observed_statistic = sp.mannwhitneyu(male_revenue, female_revenue).statistic\n",
    "\n",
    "bootstrap_statistics = []\n",
    "\n",
    "for _ in range(1000):\n",
    "    bootstrap_male_revenue = np.random.choice(male_revenue, size = len(male_revenue), replace=True)\n",
    "    bootstrap_female_revenue = np.random.choice(female_revenue, size = len(female_revenue), replace=True)\n",
    "    bootstrap_statistic = sp.mannwhitneyu(bootstrap_male_revenue, bootstrap_female_revenue).statistic\n",
    "    bootstrap_statistics.append(bootstrap_statistic)\n",
    "    bootstrap_sample_data = [[],[]]\n",
    "    bootstrap_statistic = 0\n",
    "    \n",
    "p_value = np.mean(bootstrap_statistics >= observed_statistic)\n",
    "\n",
    "# Вывод результатов\n",
    "print(\"Наблюдаемая статистика Мана-Уитни:\", observed_statistic)\n",
    "print(\"p-value:\", p_value)\n",
    "\n",
    "# Проверка статистической значимости (обычно p-значение < 0.05)\n",
    "if p_value < 0.05:\n",
    "    print(\"Отвергаем нулевую гипотезу - медианы различны.\")\n",
    "else:\n",
    "    print(\"Принимаем нулевую гипотезу - медианы одинаковы.\")"
   ]
  },
  {
   "cell_type": "markdown",
   "id": "e84346f7",
   "metadata": {},
   "source": [
    "тест Мана-Уитни \n",
    "\n",
    "pvalue=0.751"
   ]
  },
  {
   "cell_type": "markdown",
   "id": "5ad55279",
   "metadata": {},
   "source": [
    "**Результаты бутстрапа показали меньшую точность в сравнении с тестом Мана-Уитни.**\n",
    "\n",
    "**Это может быть связано с тем, что данные имеют распределение похожее на нормальное.**"
   ]
  },
  {
   "cell_type": "code",
   "execution_count": 29,
   "id": "9fa6deae",
   "metadata": {},
   "outputs": [
    {
     "data": {
      "text/plain": [
       "<matplotlib.legend.Legend at 0x1d1fec7d250>"
      ]
     },
     "execution_count": 29,
     "metadata": {},
     "output_type": "execute_result"
    },
    {
     "data": {
      "image/png": "[encoded data removed]",
      "text/plain": [
       "<Figure size 640x480 with 1 Axes>"
      ]
     },
     "metadata": {},
     "output_type": "display_data"
    }
   ],
   "source": [
    "sns.kdeplot(male_revenue.value_counts(), label='female')\n",
    "sns.kdeplot(female_revenue.value_counts(), label='male')\n",
    "plt.legend()"
   ]
  }
 ],
 "metadata": {
  "kernelspec": {
   "display_name": "Python 3 (ipykernel)",
   "language": "python",
   "name": "python3"
  },
  "language_info": {
   "codemirror_mode": {
    "name": "ipython",
    "version": 3
   },
   "file_extension": ".py",
   "mimetype": "text/x-python",
   "name": "python",
   "nbconvert_exporter": "python",
   "pygments_lexer": "ipython3",
   "version": "3.11.4"
  }
 },
 "nbformat": 4,
 "nbformat_minor": 5
}
