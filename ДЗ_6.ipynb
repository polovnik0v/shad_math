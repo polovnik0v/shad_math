{
 "cells": [
  {
   "cell_type": "markdown",
   "id": "13076597",
   "metadata": {},
   "source": [
    "***Половников Никита***"
   ]
  },
  {
   "cell_type": "code",
   "execution_count": 1,
   "id": "44b7c659",
   "metadata": {},
   "outputs": [],
   "source": [
    "import pandas as pd\n",
    "import numpy as np\n",
    "import scipy.stats as sp"
   ]
  },
  {
   "cell_type": "markdown",
   "id": "52c361d9",
   "metadata": {},
   "source": [
    "# 1 Задание. \n",
    "## На платформе Kaggle или на Github найдите достаточно большой датасет с логами пользования сервисов"
   ]
  },
  {
   "cell_type": "markdown",
   "id": "29adca5a",
   "metadata": {},
   "source": [
    "**Для работы был выбран датасет базы пользователей Netflix.**\n",
    "\n",
    "https://www.kaggle.com/datasets/arnavsmayan/netflix-userbase-dataset/data"
   ]
  },
  {
   "cell_type": "code",
   "execution_count": 2,
   "id": "7788bfd2",
   "metadata": {},
   "outputs": [],
   "source": [
    "data = pd.read_csv('Netflix_Userbase.csv')"
   ]
  },
  {
   "cell_type": "code",
   "execution_count": 3,
   "id": "7e8b72ba",
   "metadata": {},
   "outputs": [
    {
     "data": {
      "text/html": [
       "<div>\n",
       "<style scoped>\n",
       "    .dataframe tbody tr th:only-of-type {\n",
       "        vertical-align: middle;\n",
       "    }\n",
       "\n",
       "    .dataframe tbody tr th {\n",
       "        vertical-align: top;\n",
       "    }\n",
       "\n",
       "    .dataframe thead th {\n",
       "        text-align: right;\n",
       "    }\n",
       "</style>\n",
       "<table border=\"1\" class=\"dataframe\">\n",
       "  <thead>\n",
       "    <tr style=\"text-align: right;\">\n",
       "      <th></th>\n",
       "      <th>User ID</th>\n",
       "      <th>Subscription Type</th>\n",
       "      <th>Monthly Revenue</th>\n",
       "      <th>Join Date</th>\n",
       "      <th>Last Payment Date</th>\n",
       "      <th>Country</th>\n",
       "      <th>Age</th>\n",
       "      <th>Gender</th>\n",
       "      <th>Device</th>\n",
       "      <th>Plan Duration</th>\n",
       "    </tr>\n",
       "  </thead>\n",
       "  <tbody>\n",
       "    <tr>\n",
       "      <th>0</th>\n",
       "      <td>1</td>\n",
       "      <td>Basic</td>\n",
       "      <td>10</td>\n",
       "      <td>15-01-22</td>\n",
       "      <td>10-06-23</td>\n",
       "      <td>United States</td>\n",
       "      <td>28</td>\n",
       "      <td>Male</td>\n",
       "      <td>Smartphone</td>\n",
       "      <td>1 Month</td>\n",
       "    </tr>\n",
       "    <tr>\n",
       "      <th>1</th>\n",
       "      <td>2</td>\n",
       "      <td>Premium</td>\n",
       "      <td>15</td>\n",
       "      <td>05-09-21</td>\n",
       "      <td>22-06-23</td>\n",
       "      <td>Canada</td>\n",
       "      <td>35</td>\n",
       "      <td>Female</td>\n",
       "      <td>Tablet</td>\n",
       "      <td>1 Month</td>\n",
       "    </tr>\n",
       "    <tr>\n",
       "      <th>2</th>\n",
       "      <td>3</td>\n",
       "      <td>Standard</td>\n",
       "      <td>12</td>\n",
       "      <td>28-02-23</td>\n",
       "      <td>27-06-23</td>\n",
       "      <td>United Kingdom</td>\n",
       "      <td>42</td>\n",
       "      <td>Male</td>\n",
       "      <td>Smart TV</td>\n",
       "      <td>1 Month</td>\n",
       "    </tr>\n",
       "    <tr>\n",
       "      <th>3</th>\n",
       "      <td>4</td>\n",
       "      <td>Standard</td>\n",
       "      <td>12</td>\n",
       "      <td>10-07-22</td>\n",
       "      <td>26-06-23</td>\n",
       "      <td>Australia</td>\n",
       "      <td>51</td>\n",
       "      <td>Female</td>\n",
       "      <td>Laptop</td>\n",
       "      <td>1 Month</td>\n",
       "    </tr>\n",
       "    <tr>\n",
       "      <th>4</th>\n",
       "      <td>5</td>\n",
       "      <td>Basic</td>\n",
       "      <td>10</td>\n",
       "      <td>01-05-23</td>\n",
       "      <td>28-06-23</td>\n",
       "      <td>Germany</td>\n",
       "      <td>33</td>\n",
       "      <td>Male</td>\n",
       "      <td>Smartphone</td>\n",
       "      <td>1 Month</td>\n",
       "    </tr>\n",
       "    <tr>\n",
       "      <th>...</th>\n",
       "      <td>...</td>\n",
       "      <td>...</td>\n",
       "      <td>...</td>\n",
       "      <td>...</td>\n",
       "      <td>...</td>\n",
       "      <td>...</td>\n",
       "      <td>...</td>\n",
       "      <td>...</td>\n",
       "      <td>...</td>\n",
       "      <td>...</td>\n",
       "    </tr>\n",
       "    <tr>\n",
       "      <th>2495</th>\n",
       "      <td>2496</td>\n",
       "      <td>Premium</td>\n",
       "      <td>14</td>\n",
       "      <td>25-07-22</td>\n",
       "      <td>12-07-23</td>\n",
       "      <td>Spain</td>\n",
       "      <td>28</td>\n",
       "      <td>Female</td>\n",
       "      <td>Smart TV</td>\n",
       "      <td>1 Month</td>\n",
       "    </tr>\n",
       "    <tr>\n",
       "      <th>2496</th>\n",
       "      <td>2497</td>\n",
       "      <td>Basic</td>\n",
       "      <td>15</td>\n",
       "      <td>04-08-22</td>\n",
       "      <td>14-07-23</td>\n",
       "      <td>Spain</td>\n",
       "      <td>33</td>\n",
       "      <td>Female</td>\n",
       "      <td>Smart TV</td>\n",
       "      <td>1 Month</td>\n",
       "    </tr>\n",
       "    <tr>\n",
       "      <th>2497</th>\n",
       "      <td>2498</td>\n",
       "      <td>Standard</td>\n",
       "      <td>12</td>\n",
       "      <td>09-08-22</td>\n",
       "      <td>15-07-23</td>\n",
       "      <td>United States</td>\n",
       "      <td>38</td>\n",
       "      <td>Male</td>\n",
       "      <td>Laptop</td>\n",
       "      <td>1 Month</td>\n",
       "    </tr>\n",
       "    <tr>\n",
       "      <th>2498</th>\n",
       "      <td>2499</td>\n",
       "      <td>Standard</td>\n",
       "      <td>13</td>\n",
       "      <td>12-08-22</td>\n",
       "      <td>12-07-23</td>\n",
       "      <td>Canada</td>\n",
       "      <td>48</td>\n",
       "      <td>Female</td>\n",
       "      <td>Tablet</td>\n",
       "      <td>1 Month</td>\n",
       "    </tr>\n",
       "    <tr>\n",
       "      <th>2499</th>\n",
       "      <td>2500</td>\n",
       "      <td>Basic</td>\n",
       "      <td>15</td>\n",
       "      <td>13-08-22</td>\n",
       "      <td>12-07-23</td>\n",
       "      <td>United States</td>\n",
       "      <td>35</td>\n",
       "      <td>Female</td>\n",
       "      <td>Smart TV</td>\n",
       "      <td>1 Month</td>\n",
       "    </tr>\n",
       "  </tbody>\n",
       "</table>\n",
       "<p>2500 rows × 10 columns</p>\n",
       "</div>"
      ],
      "text/plain": [
       "      User ID Subscription Type  Monthly Revenue Join Date Last Payment Date  \\\n",
       "0           1             Basic               10  15-01-22          10-06-23   \n",
       "1           2           Premium               15  05-09-21          22-06-23   \n",
       "2           3          Standard               12  28-02-23          27-06-23   \n",
       "3           4          Standard               12  10-07-22          26-06-23   \n",
       "4           5             Basic               10  01-05-23          28-06-23   \n",
       "...       ...               ...              ...       ...               ...   \n",
       "2495     2496           Premium               14  25-07-22          12-07-23   \n",
       "2496     2497             Basic               15  04-08-22          14-07-23   \n",
       "2497     2498          Standard               12  09-08-22          15-07-23   \n",
       "2498     2499          Standard               13  12-08-22          12-07-23   \n",
       "2499     2500             Basic               15  13-08-22          12-07-23   \n",
       "\n",
       "             Country  Age  Gender      Device Plan Duration  \n",
       "0      United States   28    Male  Smartphone       1 Month  \n",
       "1             Canada   35  Female      Tablet       1 Month  \n",
       "2     United Kingdom   42    Male    Smart TV       1 Month  \n",
       "3          Australia   51  Female      Laptop       1 Month  \n",
       "4            Germany   33    Male  Smartphone       1 Month  \n",
       "...              ...  ...     ...         ...           ...  \n",
       "2495           Spain   28  Female    Smart TV       1 Month  \n",
       "2496           Spain   33  Female    Smart TV       1 Month  \n",
       "2497   United States   38    Male      Laptop       1 Month  \n",
       "2498          Canada   48  Female      Tablet       1 Month  \n",
       "2499   United States   35  Female    Smart TV       1 Month  \n",
       "\n",
       "[2500 rows x 10 columns]"
      ]
     },
     "execution_count": 3,
     "metadata": {},
     "output_type": "execute_result"
    }
   ],
   "source": [
    "data"
   ]
  },
  {
   "cell_type": "markdown",
   "id": "7d555f8a",
   "metadata": {},
   "source": [
    "# 2 Задание\n",
    "##  Разбейте на сегменты вашу аудиторию и примените для нескольких (примерно 3-4 метрики) метрик тесты Стьюдента, Манна-Уитни, Фишера (Фишера для нескольких сегментов)"
   ]
  },
  {
   "cell_type": "markdown",
   "id": "45725cb1",
   "metadata": {},
   "source": [
    "### Метрики \n",
    "1. Средний Monthly Revenue\n",
    "2. Возраст пользователей из США и Испании\n",
    "3. Возраст пользователей с разными типами подписки (Basic, Premium, Standard)"
   ]
  },
  {
   "cell_type": "markdown",
   "id": "cfe85d14",
   "metadata": {},
   "source": [
    "***Зафиксируем для каждого теста уровень значимости*** \n",
    "\n",
    "$\\alpha = 0.05$"
   ]
  },
  {
   "cell_type": "markdown",
   "id": "db120900",
   "metadata": {},
   "source": [
    "### Проверка гипотезы равенства месячного дохода платформы двух группы пользователей. \n",
    "### (Тест Стьюдента)"
   ]
  },
  {
   "cell_type": "code",
   "execution_count": 4,
   "id": "0a639f09",
   "metadata": {},
   "outputs": [],
   "source": [
    "data_1 = data[0:1250]\n",
    "data_2 = data[1250:]"
   ]
  },
  {
   "cell_type": "code",
   "execution_count": 5,
   "id": "4f06046d",
   "metadata": {},
   "outputs": [
    {
     "data": {
      "text/plain": [
       "Ttest_indResult(statistic=0.9603541923181456, pvalue=0.3369699285866148)"
      ]
     },
     "execution_count": 5,
     "metadata": {},
     "output_type": "execute_result"
    }
   ],
   "source": [
    "sp.ttest_ind(data_1['Monthly Revenue'], data_2['Monthly Revenue'])"
   ]
  },
  {
   "cell_type": "markdown",
   "id": "a1daacac",
   "metadata": {},
   "source": [
    "***p-val >*** $\\normalsize \\alpha$ ***=> принимаем нулевую гипотезу*** $(\\mathbb{E}(a) = \\mathbb{E}(b)$"
   ]
  },
  {
   "cell_type": "markdown",
   "id": "7754acd8",
   "metadata": {},
   "source": [
    "### Проверка гипотезы о том, что возраст пользователей из США и Испании имеют одинаковое распределение.\n",
    "### Тест Мана-Уитни"
   ]
  },
  {
   "cell_type": "code",
   "execution_count": 6,
   "id": "d2df2918",
   "metadata": {},
   "outputs": [
    {
     "data": {
      "text/plain": [
       "United States     451\n",
       "Spain             451\n",
       "Canada            317\n",
       "United Kingdom    183\n",
       "Australia         183\n",
       "Germany           183\n",
       "France            183\n",
       "Brazil            183\n",
       "Mexico            183\n",
       "Italy             183\n",
       "Name: Country, dtype: int64"
      ]
     },
     "execution_count": 6,
     "metadata": {},
     "output_type": "execute_result"
    }
   ],
   "source": [
    "data['Country'].value_counts()"
   ]
  },
  {
   "cell_type": "code",
   "execution_count": 7,
   "id": "6813ed3d",
   "metadata": {},
   "outputs": [],
   "source": [
    "age_country = data[['Country', 'Age']]\n",
    "usa_age = age_country[age_country['Country'] == 'United States']['Age']\n",
    "spain_age = age_country[age_country['Country'] == 'Spain']['Age']\n"
   ]
  },
  {
   "cell_type": "code",
   "execution_count": 8,
   "id": "e6a1852d",
   "metadata": {},
   "outputs": [
    {
     "data": {
      "text/plain": [
       "MannwhitneyuResult(statistic=102588.5, pvalue=0.8203894986672744)"
      ]
     },
     "execution_count": 8,
     "metadata": {},
     "output_type": "execute_result"
    }
   ],
   "source": [
    "sp.mannwhitneyu(usa_age, spain_age)"
   ]
  },
  {
   "cell_type": "markdown",
   "id": "d0b7d12b",
   "metadata": {},
   "source": [
    "***p-val >*** $\\normalsize \\alpha $ ***=> принимаем нулевую гипотезу о равенстве распределений возрастов пользователей из США и Испании.***\n"
   ]
  },
  {
   "cell_type": "markdown",
   "id": "a21cb27a",
   "metadata": {},
   "source": [
    "### Проверка гипотезы о том, что средний возраст пользователей с разными типами подписки одинаков.\n",
    "### One-way ANOVA"
   ]
  },
  {
   "cell_type": "code",
   "execution_count": 9,
   "id": "faaf19d9",
   "metadata": {},
   "outputs": [
    {
     "data": {
      "text/plain": [
       "Basic       999\n",
       "Standard    768\n",
       "Premium     733\n",
       "Name: Subscription Type, dtype: int64"
      ]
     },
     "execution_count": 9,
     "metadata": {},
     "output_type": "execute_result"
    }
   ],
   "source": [
    "data['Subscription Type'].value_counts()"
   ]
  },
  {
   "cell_type": "code",
   "execution_count": 10,
   "id": "7f46e1db",
   "metadata": {},
   "outputs": [],
   "source": [
    "subs = data[['Subscription Type', 'Age']]\n",
    "basic_age = subs[subs['Subscription Type'] == 'Basic']['Age']\n",
    "standard_age = subs[subs['Subscription Type'] == 'Standard']['Age']\n",
    "premium_age = subs[subs['Subscription Type'] == 'Premium']['Age']\n"
   ]
  },
  {
   "cell_type": "code",
   "execution_count": 11,
   "id": "d61c7a9c",
   "metadata": {},
   "outputs": [
    {
     "data": {
      "text/plain": [
       "F_onewayResult(statistic=0.9630556399924789, pvalue=0.38186642866603326)"
      ]
     },
     "execution_count": 11,
     "metadata": {},
     "output_type": "execute_result"
    }
   ],
   "source": [
    "sp.f_oneway(basic_age, standard_age, premium_age)"
   ]
  },
  {
   "cell_type": "markdown",
   "id": "577d3f3b",
   "metadata": {},
   "source": [
    "***p-val >*** $\\normalsize \\alpha $ ***=> принимаем нулевую гипотезу о том, что средний возраст пользователей с разными типами подписки одинаков.***\n"
   ]
  },
  {
   "cell_type": "markdown",
   "id": "b97b9e3e",
   "metadata": {},
   "source": [
    "# 3 Задание\n",
    "## Для >=3 сегментов сделайте попарные сравнения через тест Стьюдента и тест Фишера. Проверьте соотносятся ли результаты"
   ]
  },
  {
   "cell_type": "markdown",
   "id": "3473a705",
   "metadata": {},
   "source": [
    "### Проверка гипотезы равенства месячного дохода платформы двух группы пользователей попарными сравнениями через тест Стьюдента и тест Фишера."
   ]
  },
  {
   "cell_type": "code",
   "execution_count": 12,
   "id": "c59abbf2",
   "metadata": {},
   "outputs": [],
   "source": [
    "part_1 = data[:833]\n",
    "part_2 = data[833:1667]\n",
    "part_3 = data[1667:2500]"
   ]
  },
  {
   "cell_type": "markdown",
   "id": "74242114",
   "metadata": {},
   "source": [
    "***Тест Стьюдента***"
   ]
  },
  {
   "cell_type": "code",
   "execution_count": 13,
   "id": "713f56d2",
   "metadata": {},
   "outputs": [
    {
     "data": {
      "text/plain": [
       "0.8546869476604385"
      ]
     },
     "execution_count": 13,
     "metadata": {},
     "output_type": "execute_result"
    }
   ],
   "source": [
    "p_val_student = []\n",
    "\n",
    "p_val_student.append(sp.ttest_ind(part_1['Monthly Revenue'], part_2['Monthly Revenue']).pvalue)\n",
    "p_val_student.append(sp.ttest_ind(part_1['Monthly Revenue'], part_3['Monthly Revenue']).pvalue)\n",
    "p_val_student.append(sp.ttest_ind(part_2['Monthly Revenue'], part_3['Monthly Revenue']).pvalue)\n",
    "\n",
    "np.mean(p_val_student)"
   ]
  },
  {
   "cell_type": "markdown",
   "id": "d3a74c49",
   "metadata": {},
   "source": [
    "***Тест Фишера***"
   ]
  },
  {
   "cell_type": "code",
   "execution_count": 14,
   "id": "fac36d32",
   "metadata": {},
   "outputs": [
    {
     "data": {
      "text/plain": [
       "0.9614598333875473"
      ]
     },
     "execution_count": 14,
     "metadata": {},
     "output_type": "execute_result"
    }
   ],
   "source": [
    "f_test_3_parts = sp.f_oneway(part_1['Monthly Revenue'], part_2['Monthly Revenue'], part_3['Monthly Revenue']).pvalue\n",
    "f_test_3_parts"
   ]
  },
  {
   "cell_type": "markdown",
   "id": "d07b61a6",
   "metadata": {},
   "source": [
    "### Как можно заметить, попарное сравнение t-критерием увеличивает ошибку первого рода"
   ]
  },
  {
   "cell_type": "markdown",
   "id": "d64f5255",
   "metadata": {},
   "source": [
    "**Вероятность ошибки первого рода:**"
   ]
  },
  {
   "cell_type": "code",
   "execution_count": 15,
   "id": "43cd4570",
   "metadata": {},
   "outputs": [
    {
     "data": {
      "text/plain": [
       "0.11105288231429478"
      ]
     },
     "execution_count": 15,
     "metadata": {},
     "output_type": "execute_result"
    }
   ],
   "source": [
    "1 - np.mean(p_val_student)/f_test_3_parts"
   ]
  },
  {
   "cell_type": "markdown",
   "id": "0bca414d",
   "metadata": {},
   "source": [
    "***Практическое значение 11% вполнее соотносится с табличным значением в 12% при количесве попарных сравнений равном 3.*** "
   ]
  },
  {
   "cell_type": "markdown",
   "id": "14bbddf8",
   "metadata": {},
   "source": [
    "# 4 Задание\n",
    "## Постройте точный и эфронов доверительные интервал для выбранных метрик. Проверьте соответствуют ли эти доверительные интервалы результатам теста Стьюдента."
   ]
  },
  {
   "cell_type": "markdown",
   "id": "ae191630",
   "metadata": {},
   "source": [
    "### Метрики \n",
    "1. Средний Monthly Revenue\n",
    "2. Возраст пользователей из США и Испании\n",
    "3. Возраст пользователей с разными типами подписки (Basic, Premium, Standard)"
   ]
  },
  {
   "cell_type": "markdown",
   "id": "e3c1157a",
   "metadata": {},
   "source": [
    "### Построим точные доверительные интервалы."
   ]
  },
  {
   "cell_type": "markdown",
   "id": "cd5b5135",
   "metadata": {},
   "source": [
    "***Точный доверительный интервал имеет вид:***\n",
    "    $$ \\left[ \\overline x \\pm t_{1-\\frac{\\alpha}{2}} \\cdot \\sqrt{\\frac{\\widehat s ^2}{n}} \\right]$$"
   ]
  },
  {
   "cell_type": "code",
   "execution_count": 16,
   "id": "b5ce9711",
   "metadata": {},
   "outputs": [
    {
     "name": "stdout",
     "output_type": "stream",
     "text": [
      "Д.И. для группы 1: [ 12.445391202300739 , 12.636208797699263 ]\n",
      "Д.И. для группы 2: [ 12.38423483106162 , 12.567765168938381 ]\n"
     ]
    }
   ],
   "source": [
    "alpha = 0.05 \n",
    "\n",
    "t_rv = sp.t(2500/2-1)\n",
    "t_crit = t_rv.ppf(1-alpha/2)\n",
    "\n",
    "left_1 = data_1['Monthly Revenue'].mean()- t_crit*data_1['Monthly Revenue'].std()/np.sqrt(2500/2)\n",
    "right_1 = data_1['Monthly Revenue'].mean() + t_crit*data_1['Monthly Revenue'].std()/np.sqrt(2500/2)\n",
    "\n",
    "print('Д.И. для группы 1: [', left_1, ',', right_1,']')\n",
    "\n",
    "t_rv = sp.t(2500/2-1)\n",
    "t_crit = t_rv.ppf(1-alpha/2)\n",
    "\n",
    "left_2 = data_2['Monthly Revenue'].mean()- t_crit*data_2['Monthly Revenue'].std()/np.sqrt(2500/2)\n",
    "right_2 = data_2['Monthly Revenue'].mean() + t_crit*data_2['Monthly Revenue'].std()/np.sqrt(2500/2)\n",
    "\n",
    "print('Д.И. для группы 2: [', left_2, ',', right_2,']')"
   ]
  },
  {
   "cell_type": "markdown",
   "id": "4565a1a4",
   "metadata": {},
   "source": [
    "**Границы точных доверительных интервалов соответствуют результату теста Стьюдента из п.2 (**$\\mathbb{E}(a) = \\mathbb{E}(b)$**)**"
   ]
  },
  {
   "cell_type": "code",
   "execution_count": 17,
   "id": "18db4a7d",
   "metadata": {},
   "outputs": [
    {
     "name": "stdout",
     "output_type": "stream",
     "text": [
      "Д.И. для возраста пользователя из США: [ 38.25657469024443 , 39.597083846340944 ]\n",
      "Д.И. для возраста пользователя из Испании: [ 38.11005624886905 , 39.49083066909103 ]\n"
     ]
    }
   ],
   "source": [
    "alpha = 0.05 \n",
    "\n",
    "t_rv = sp.t(451-1)\n",
    "t_crit = t_rv.ppf(1-alpha/2)\n",
    "\n",
    "left_1 = usa_age.mean()- t_crit*usa_age.std()/np.sqrt(451)\n",
    "right_1 = usa_age.mean() + t_crit*usa_age.std()/np.sqrt(451)\n",
    "\n",
    "print('Д.И. для возраста пользователя из США: [', left_1, ',', right_1,']')\n",
    "\n",
    "t_rv = sp.t(451-1)\n",
    "t_crit = t_rv.ppf(1-alpha/2)\n",
    "\n",
    "left_2 = spain_age.mean()- t_crit*spain_age.std()/np.sqrt(451)\n",
    "right_2 = spain_age.mean() + t_crit*spain_age.std()/np.sqrt(451)\n",
    "\n",
    "print('Д.И. для возраста пользователя из Испании: [', left_2, ',', right_2,']')"
   ]
  },
  {
   "cell_type": "code",
   "execution_count": 18,
   "id": "b6585b17",
   "metadata": {},
   "outputs": [
    {
     "data": {
      "text/plain": [
       "Ttest_indResult(statistic=0.25813072537598564, pvalue=0.7963650340536712)"
      ]
     },
     "execution_count": 18,
     "metadata": {},
     "output_type": "execute_result"
    }
   ],
   "source": [
    "sp.ttest_ind(usa_age, spain_age)"
   ]
  },
  {
   "cell_type": "markdown",
   "id": "ddf70210",
   "metadata": {},
   "source": [
    "***Границы точных доверительных интервалов соответствуют результату теста Стьюдента.***"
   ]
  },
  {
   "cell_type": "code",
   "execution_count": 19,
   "id": "3c03cd29",
   "metadata": {},
   "outputs": [
    {
     "name": "stdout",
     "output_type": "stream",
     "text": [
      "Д. И. для возраста пользователя с подпиской Basic: [ 38.38239281381608 , 39.27526484384157 ]\n",
      "Д. И. для возраста пользователя с подпиской Standard: [ 38.5248506645779 , 39.51942016875543 ]\n",
      "Д. И. для возраста пользователя с подпиской Premium: [ 37.98344830329315 , 39.042472569831 ] \n",
      "\n",
      "P-value попарных тестов Стьюдента:  [0.5714894850604375, 0.369678511422302, 0.16861968524485238]\n",
      "Среднее P-value попарных тестов Стьюдента =  0.3699292272425307\n"
     ]
    }
   ],
   "source": [
    "alpha = 0.05 \n",
    "\n",
    "t_rv = sp.t(len(basic_age)-1)\n",
    "t_crit = t_rv.ppf(1-alpha/2)\n",
    "\n",
    "left_1 = basic_age.mean()- t_crit*basic_age.std()/np.sqrt(len(basic_age))\n",
    "right_1 = basic_age.mean() + t_crit*basic_age.std()/np.sqrt(len(basic_age))\n",
    "\n",
    "print('Д. И. для возраста пользователя с подпиской Basic: [', left_1, ',', right_1,']')\n",
    "\n",
    "\n",
    "t_rv = sp.t(len(standard_age)-1)\n",
    "t_crit = t_rv.ppf(1-alpha/2)\n",
    "\n",
    "left_2 = standard_age.mean()- t_crit*standard_age.std()/np.sqrt(len(standard_age))\n",
    "right_2 = standard_age.mean() + t_crit*standard_age.std()/np.sqrt(len(standard_age))\n",
    "\n",
    "print('Д. И. для возраста пользователя с подпиской Standard: [', left_2, ',', right_2,']')\n",
    "\n",
    "\n",
    "t_rv = sp.t(len(premium_age)-1)\n",
    "t_crit = t_rv.ppf(1-alpha/2)\n",
    "\n",
    "left_3 = premium_age.mean()- t_crit*premium_age.std()/np.sqrt(len(premium_age))\n",
    "right_3 = premium_age.mean() + t_crit*premium_age.std()/np.sqrt(len(premium_age))\n",
    "\n",
    "print('Д. И. для возраста пользователя с подпиской Premium: [', left_3, ',', right_3,']', '\\n')\n",
    "      \n",
    "      \n",
    "p_val_student = []\n",
    "\n",
    "p_val_student.append(sp.ttest_ind(basic_age, standard_age).pvalue)\n",
    "p_val_student.append(sp.ttest_ind(basic_age, premium_age).pvalue)\n",
    "p_val_student.append(sp.ttest_ind(standard_age, premium_age).pvalue)\n",
    "\n",
    "print('P-value попарных тестов Стьюдента: ', p_val_student)\n",
    "print('Среднее P-value попарных тестов Стьюдента = ', np.mean(p_val_student))"
   ]
  },
  {
   "cell_type": "markdown",
   "id": "b1cae9f0",
   "metadata": {},
   "source": [
    "**Границы точных доверительных интервалов соответствуют результату попарных тестов Стьюдента.**"
   ]
  },
  {
   "cell_type": "markdown",
   "id": "2adca4fe",
   "metadata": {},
   "source": [
    "## Построим эфроновы доверительные интервалы."
   ]
  },
  {
   "cell_type": "code",
   "execution_count": 20,
   "id": "58556d83",
   "metadata": {},
   "outputs": [
    {
     "name": "stdout",
     "output_type": "stream",
     "text": [
      "Д.И. для группы 1: [ 12.452 , 12.641 ]\n",
      "Д.И. для группы 2: [ 12.388 , 12.568 ]\n"
     ]
    }
   ],
   "source": [
    "means_list_1 = []\n",
    "means_list_2 = []\n",
    "for _ in range(1000):\n",
    "    temp_1 = np.random.choice(data_1['Monthly Revenue'], size = len(data_1), replace=True)\n",
    "    means_list_1.append(np.mean(temp_1))\n",
    "    temp_2 = np.random.choice(data_2['Monthly Revenue'], size = len(data_2), replace=True)\n",
    "    means_list_2.append(np.mean(temp_2))\n",
    "\n",
    "\n",
    "left_1 = np.percentile(means_list_1, q=[2.5, 97.5]).round(3)[0]\n",
    "right_1 = np.percentile(means_list_1, q=[2.5, 97.5]).round(3)[1]\n",
    "\n",
    "left_2 = np.percentile(means_list_2, q=[2.5, 97.5]).round(3)[0]\n",
    "right_2 = np.percentile(means_list_2, q=[2.5, 97.5]).round(3)[1]\n",
    "\n",
    "print('Д.И. для группы 1: [', left_1, ',', right_1,']')\n",
    "print('Д.И. для группы 2: [', left_2, ',', right_2,']')\n"
   ]
  },
  {
   "cell_type": "markdown",
   "id": "fc3ec6d9",
   "metadata": {},
   "source": [
    "**Границы доверительных интервалов соответствуют результату теста Стьюдента из п.2 (**$\\mathbb{E}(a) = \\mathbb{E}(b)$**) и совпадают с границами точных доверительных интервалов**"
   ]
  },
  {
   "cell_type": "code",
   "execution_count": 21,
   "id": "33a4cfbc",
   "metadata": {},
   "outputs": [
    {
     "name": "stdout",
     "output_type": "stream",
     "text": [
      "Д.И. для возраста пользователя из США: [ 38.237 , 39.543 ]\n",
      "Д.И. для возраста пользователя из Испании: [ 38.146 , 39.463 ]\n"
     ]
    }
   ],
   "source": [
    "means_list_1 = []\n",
    "means_list_2 = []\n",
    "\n",
    "for _ in range(1000):\n",
    "    temp_1 = np.random.choice(usa_age, size = len(usa_age), replace=True)\n",
    "    means_list_1.append(np.mean(temp_1))\n",
    "    temp_2 = np.random.choice(spain_age, size = len(spain_age), replace=True)\n",
    "    means_list_2.append(np.mean(temp_2))\n",
    "\n",
    "\n",
    "left_1 = np.percentile(means_list_1, q=[2.5, 97.5]).round(3)[0]\n",
    "right_1 = np.percentile(means_list_1, q=[2.5, 97.5]).round(3)[1]\n",
    "\n",
    "left_2 = np.percentile(means_list_2, q=[2.5, 97.5]).round(3)[0]\n",
    "right_2 = np.percentile(means_list_2, q=[2.5, 97.5]).round(3)[1]\n",
    "\n",
    "print('Д.И. для возраста пользователя из США: [', left_1, ',', right_1,']')\n",
    "print('Д.И. для возраста пользователя из Испании: [', left_2, ',', right_2,']')\n"
   ]
  },
  {
   "cell_type": "markdown",
   "id": "dc38800f",
   "metadata": {},
   "source": [
    "**Границы доверительных интервалов соответствуют результату теста Стьюдента и почти равны границам точных доверительных интервалов**"
   ]
  },
  {
   "cell_type": "code",
   "execution_count": 22,
   "id": "146b99c5",
   "metadata": {},
   "outputs": [
    {
     "name": "stdout",
     "output_type": "stream",
     "text": [
      "Д. И. для возраста пользователя с подпиской Basic: [ 38.383 , 39.273 ]\n",
      "Д. И. для возраста пользователя с подпиской Standard: [ 38.521 , 39.513 ]\n",
      "Д. И. для возраста пользователя с подпиской Premium: [ 37.982 , 39.042 ] \n",
      "\n",
      "P-value попарных тестов Стьюдента [0.5714894850604375, 0.369678511422302, 0.16861968524485238]\n",
      "Среднее P-value попарных тестов Стьюдента 0.3699292272425307\n"
     ]
    }
   ],
   "source": [
    "means_list_1 = []\n",
    "means_list_2 = []\n",
    "means_list_3 = []\n",
    "\n",
    "for _ in range(20000):\n",
    "    temp_1 = np.random.choice(basic_age, size = len(basic_age), replace=True)\n",
    "    means_list_1.append(np.mean(temp_1))\n",
    "    temp_2 = np.random.choice(standard_age, size = len(standard_age), replace=True)\n",
    "    means_list_2.append(np.mean(temp_2))\n",
    "    temp_3 = np.random.choice(premium_age, size = len(premium_age), replace=True)\n",
    "    means_list_3.append(np.mean(temp_3))\n",
    "\n",
    "left_1 = np.percentile(means_list_1, q=[2.5, 97.5]).round(3)[0]\n",
    "right_1 = np.percentile(means_list_1, q=[2.5, 97.5]).round(3)[1]\n",
    "\n",
    "left_2 = np.percentile(means_list_2, q=[2.5, 97.5]).round(3)[0]\n",
    "right_2 = np.percentile(means_list_2, q=[2.5, 97.5]).round(3)[1]\n",
    "\n",
    "left_3 = np.percentile(means_list_3, q=[2.5, 97.5]).round(3)[0]\n",
    "right_3 = np.percentile(means_list_3, q=[2.5, 97.5]).round(3)[1]\n",
    "\n",
    "print('Д. И. для возраста пользователя с подпиской Basic: [', left_1, ',', right_1,']')\n",
    "print('Д. И. для возраста пользователя с подпиской Standard: [', left_2, ',', right_2,']')\n",
    "print('Д. И. для возраста пользователя с подпиской Premium: [', left_3, ',', right_3,']', '\\n')\n",
    "\n",
    "print('P-value попарных тестов Стьюдента', p_val_student)\n",
    "print('Среднее P-value попарных тестов Стьюдента', np.mean(p_val_student))"
   ]
  },
  {
   "cell_type": "markdown",
   "id": "2763909a",
   "metadata": {},
   "source": [
    "**Границы точных доверительных интервалов соответствуют результату попарных тестов Стьюдента.**"
   ]
  },
  {
   "cell_type": "markdown",
   "id": "150f1526",
   "metadata": {},
   "source": [
    "# 5 Задание\n",
    "## Подумайте, можно ли использовать в пункте 2 другие стат. тесты. Приведите пару примеров."
   ]
  },
  {
   "cell_type": "markdown",
   "id": "0967d92b",
   "metadata": {},
   "source": [
    "**Возраст пользователей из США и Испании можно оценить с помощью теста Краскала.**"
   ]
  },
  {
   "cell_type": "code",
   "execution_count": 23,
   "id": "94bde0c8",
   "metadata": {},
   "outputs": [
    {
     "data": {
      "text/plain": [
       "KruskalResult(statistic=0.051607095023202744, pvalue=0.8202900379059674)"
      ]
     },
     "execution_count": 23,
     "metadata": {},
     "output_type": "execute_result"
    }
   ],
   "source": [
    "sp.kruskal(usa_age, spain_age)"
   ]
  },
  {
   "cell_type": "markdown",
   "id": "6bf3c3c6",
   "metadata": {},
   "source": [
    "***p-val >*** $\\normalsize \\alpha $ ***=> принимаем нулевую гипотезу о равенстве распределений возрастов пользователей из США и Испании.***\n"
   ]
  },
  {
   "cell_type": "markdown",
   "id": "95713b4e",
   "metadata": {},
   "source": [
    "**Проверку гипотезы равенства дисперсий месячного дохода платформы двух групп пользователей можно осуществить с помощью критерия Левена.**"
   ]
  },
  {
   "cell_type": "code",
   "execution_count": 24,
   "id": "8de07070",
   "metadata": {},
   "outputs": [
    {
     "data": {
      "text/plain": [
       "LeveneResult(statistic=2.7355544816893658, pvalue=0.09826307527318819)"
      ]
     },
     "execution_count": 24,
     "metadata": {},
     "output_type": "execute_result"
    }
   ],
   "source": [
    "sp.levene(data_1['Monthly Revenue'], data_2['Monthly Revenue'])"
   ]
  },
  {
   "cell_type": "markdown",
   "id": "4a9b4488",
   "metadata": {},
   "source": [
    "***p-val >*** $\\normalsize \\alpha $ ***=> принимаем нулевую гипотезу о равенстве дисперсий месячного дохода платформы двух групп.***"
   ]
  },
  {
   "cell_type": "markdown",
   "id": "36353828",
   "metadata": {},
   "source": [
    "**Результат теста Левена можно использовать для уточнения результата t-теста** (equal_var = True)."
   ]
  }
 ],
 "metadata": {
  "kernelspec": {
   "display_name": "Python 3 (ipykernel)",
   "language": "python",
   "name": "python3"
  },
  "language_info": {
   "codemirror_mode": {
    "name": "ipython",
    "version": 3
   },
   "file_extension": ".py",
   "mimetype": "text/x-python",
   "name": "python",
   "nbconvert_exporter": "python",
   "pygments_lexer": "ipython3",
   "version": "3.11.4"
  }
 },
 "nbformat": 4,
 "nbformat_minor": 5
}
