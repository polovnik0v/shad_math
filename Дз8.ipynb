{
 "cells": [
  {
   "cell_type": "markdown",
   "id": "84f28cc0",
   "metadata": {},
   "source": [
    "***Половников Никита***"
   ]
  },
  {
   "cell_type": "code",
   "execution_count": 1,
   "id": "302661ed",
   "metadata": {},
   "outputs": [],
   "source": [
    "import pandas as pd\n",
    "import numpy as np\n",
    "import datetime\n",
    "from matplotlib import pyplot as plt\n",
    "import seaborn as sns\n",
    "import scipy as sp\n",
    "from tqdm import tqdm"
   ]
  },
  {
   "cell_type": "markdown",
   "id": "13d32911",
   "metadata": {},
   "source": [
    "### Для работы был выбран датасет поездок в такси за январь 2023 года."
   ]
  },
  {
   "cell_type": "markdown",
   "id": "0988e17e",
   "metadata": {},
   "source": [
    "### Подготовка данных"
   ]
  },
  {
   "cell_type": "code",
   "execution_count": 2,
   "id": "d6f56d75",
   "metadata": {},
   "outputs": [],
   "source": [
    "data = pd.read_parquet('yellow_tripdata_2023-01.parquet')"
   ]
  },
  {
   "cell_type": "code",
   "execution_count": 3,
   "id": "46c2474d",
   "metadata": {},
   "outputs": [
    {
     "data": {
      "text/html": [
       "<div>\n",
       "<style scoped>\n",
       "    .dataframe tbody tr th:only-of-type {\n",
       "        vertical-align: middle;\n",
       "    }\n",
       "\n",
       "    .dataframe tbody tr th {\n",
       "        vertical-align: top;\n",
       "    }\n",
       "\n",
       "    .dataframe thead th {\n",
       "        text-align: right;\n",
       "    }\n",
       "</style>\n",
       "<table border=\"1\" class=\"dataframe\">\n",
       "  <thead>\n",
       "    <tr style=\"text-align: right;\">\n",
       "      <th></th>\n",
       "      <th>VendorID</th>\n",
       "      <th>tpep_pickup_datetime</th>\n",
       "      <th>tpep_dropoff_datetime</th>\n",
       "      <th>passenger_count</th>\n",
       "      <th>trip_distance</th>\n",
       "      <th>RatecodeID</th>\n",
       "      <th>store_and_fwd_flag</th>\n",
       "      <th>PULocationID</th>\n",
       "      <th>DOLocationID</th>\n",
       "      <th>payment_type</th>\n",
       "      <th>fare_amount</th>\n",
       "      <th>extra</th>\n",
       "      <th>mta_tax</th>\n",
       "      <th>tip_amount</th>\n",
       "      <th>tolls_amount</th>\n",
       "      <th>improvement_surcharge</th>\n",
       "      <th>total_amount</th>\n",
       "      <th>congestion_surcharge</th>\n",
       "      <th>airport_fee</th>\n",
       "    </tr>\n",
       "  </thead>\n",
       "  <tbody>\n",
       "    <tr>\n",
       "      <th>0</th>\n",
       "      <td>2</td>\n",
       "      <td>2023-01-01 00:32:10</td>\n",
       "      <td>2023-01-01 00:40:36</td>\n",
       "      <td>1.0</td>\n",
       "      <td>0.97</td>\n",
       "      <td>1.0</td>\n",
       "      <td>N</td>\n",
       "      <td>161</td>\n",
       "      <td>141</td>\n",
       "      <td>2</td>\n",
       "      <td>9.30</td>\n",
       "      <td>1.00</td>\n",
       "      <td>0.5</td>\n",
       "      <td>0.00</td>\n",
       "      <td>0.0</td>\n",
       "      <td>1.0</td>\n",
       "      <td>14.30</td>\n",
       "      <td>2.5</td>\n",
       "      <td>0.00</td>\n",
       "    </tr>\n",
       "    <tr>\n",
       "      <th>1</th>\n",
       "      <td>2</td>\n",
       "      <td>2023-01-01 00:55:08</td>\n",
       "      <td>2023-01-01 01:01:27</td>\n",
       "      <td>1.0</td>\n",
       "      <td>1.10</td>\n",
       "      <td>1.0</td>\n",
       "      <td>N</td>\n",
       "      <td>43</td>\n",
       "      <td>237</td>\n",
       "      <td>1</td>\n",
       "      <td>7.90</td>\n",
       "      <td>1.00</td>\n",
       "      <td>0.5</td>\n",
       "      <td>4.00</td>\n",
       "      <td>0.0</td>\n",
       "      <td>1.0</td>\n",
       "      <td>16.90</td>\n",
       "      <td>2.5</td>\n",
       "      <td>0.00</td>\n",
       "    </tr>\n",
       "    <tr>\n",
       "      <th>2</th>\n",
       "      <td>2</td>\n",
       "      <td>2023-01-01 00:25:04</td>\n",
       "      <td>2023-01-01 00:37:49</td>\n",
       "      <td>1.0</td>\n",
       "      <td>2.51</td>\n",
       "      <td>1.0</td>\n",
       "      <td>N</td>\n",
       "      <td>48</td>\n",
       "      <td>238</td>\n",
       "      <td>1</td>\n",
       "      <td>14.90</td>\n",
       "      <td>1.00</td>\n",
       "      <td>0.5</td>\n",
       "      <td>15.00</td>\n",
       "      <td>0.0</td>\n",
       "      <td>1.0</td>\n",
       "      <td>34.90</td>\n",
       "      <td>2.5</td>\n",
       "      <td>0.00</td>\n",
       "    </tr>\n",
       "    <tr>\n",
       "      <th>3</th>\n",
       "      <td>1</td>\n",
       "      <td>2023-01-01 00:03:48</td>\n",
       "      <td>2023-01-01 00:13:25</td>\n",
       "      <td>0.0</td>\n",
       "      <td>1.90</td>\n",
       "      <td>1.0</td>\n",
       "      <td>N</td>\n",
       "      <td>138</td>\n",
       "      <td>7</td>\n",
       "      <td>1</td>\n",
       "      <td>12.10</td>\n",
       "      <td>7.25</td>\n",
       "      <td>0.5</td>\n",
       "      <td>0.00</td>\n",
       "      <td>0.0</td>\n",
       "      <td>1.0</td>\n",
       "      <td>20.85</td>\n",
       "      <td>0.0</td>\n",
       "      <td>1.25</td>\n",
       "    </tr>\n",
       "    <tr>\n",
       "      <th>4</th>\n",
       "      <td>2</td>\n",
       "      <td>2023-01-01 00:10:29</td>\n",
       "      <td>2023-01-01 00:21:19</td>\n",
       "      <td>1.0</td>\n",
       "      <td>1.43</td>\n",
       "      <td>1.0</td>\n",
       "      <td>N</td>\n",
       "      <td>107</td>\n",
       "      <td>79</td>\n",
       "      <td>1</td>\n",
       "      <td>11.40</td>\n",
       "      <td>1.00</td>\n",
       "      <td>0.5</td>\n",
       "      <td>3.28</td>\n",
       "      <td>0.0</td>\n",
       "      <td>1.0</td>\n",
       "      <td>19.68</td>\n",
       "      <td>2.5</td>\n",
       "      <td>0.00</td>\n",
       "    </tr>\n",
       "    <tr>\n",
       "      <th>...</th>\n",
       "      <td>...</td>\n",
       "      <td>...</td>\n",
       "      <td>...</td>\n",
       "      <td>...</td>\n",
       "      <td>...</td>\n",
       "      <td>...</td>\n",
       "      <td>...</td>\n",
       "      <td>...</td>\n",
       "      <td>...</td>\n",
       "      <td>...</td>\n",
       "      <td>...</td>\n",
       "      <td>...</td>\n",
       "      <td>...</td>\n",
       "      <td>...</td>\n",
       "      <td>...</td>\n",
       "      <td>...</td>\n",
       "      <td>...</td>\n",
       "      <td>...</td>\n",
       "      <td>...</td>\n",
       "    </tr>\n",
       "    <tr>\n",
       "      <th>3066761</th>\n",
       "      <td>2</td>\n",
       "      <td>2023-01-31 23:58:34</td>\n",
       "      <td>2023-02-01 00:12:33</td>\n",
       "      <td>NaN</td>\n",
       "      <td>3.05</td>\n",
       "      <td>NaN</td>\n",
       "      <td>None</td>\n",
       "      <td>107</td>\n",
       "      <td>48</td>\n",
       "      <td>0</td>\n",
       "      <td>15.80</td>\n",
       "      <td>0.00</td>\n",
       "      <td>0.5</td>\n",
       "      <td>3.96</td>\n",
       "      <td>0.0</td>\n",
       "      <td>1.0</td>\n",
       "      <td>23.76</td>\n",
       "      <td>NaN</td>\n",
       "      <td>NaN</td>\n",
       "    </tr>\n",
       "    <tr>\n",
       "      <th>3066762</th>\n",
       "      <td>2</td>\n",
       "      <td>2023-01-31 23:31:09</td>\n",
       "      <td>2023-01-31 23:50:36</td>\n",
       "      <td>NaN</td>\n",
       "      <td>5.80</td>\n",
       "      <td>NaN</td>\n",
       "      <td>None</td>\n",
       "      <td>112</td>\n",
       "      <td>75</td>\n",
       "      <td>0</td>\n",
       "      <td>22.43</td>\n",
       "      <td>0.00</td>\n",
       "      <td>0.5</td>\n",
       "      <td>2.64</td>\n",
       "      <td>0.0</td>\n",
       "      <td>1.0</td>\n",
       "      <td>29.07</td>\n",
       "      <td>NaN</td>\n",
       "      <td>NaN</td>\n",
       "    </tr>\n",
       "    <tr>\n",
       "      <th>3066763</th>\n",
       "      <td>2</td>\n",
       "      <td>2023-01-31 23:01:05</td>\n",
       "      <td>2023-01-31 23:25:36</td>\n",
       "      <td>NaN</td>\n",
       "      <td>4.67</td>\n",
       "      <td>NaN</td>\n",
       "      <td>None</td>\n",
       "      <td>114</td>\n",
       "      <td>239</td>\n",
       "      <td>0</td>\n",
       "      <td>17.61</td>\n",
       "      <td>0.00</td>\n",
       "      <td>0.5</td>\n",
       "      <td>5.32</td>\n",
       "      <td>0.0</td>\n",
       "      <td>1.0</td>\n",
       "      <td>26.93</td>\n",
       "      <td>NaN</td>\n",
       "      <td>NaN</td>\n",
       "    </tr>\n",
       "    <tr>\n",
       "      <th>3066764</th>\n",
       "      <td>2</td>\n",
       "      <td>2023-01-31 23:40:00</td>\n",
       "      <td>2023-01-31 23:53:00</td>\n",
       "      <td>NaN</td>\n",
       "      <td>3.15</td>\n",
       "      <td>NaN</td>\n",
       "      <td>None</td>\n",
       "      <td>230</td>\n",
       "      <td>79</td>\n",
       "      <td>0</td>\n",
       "      <td>18.15</td>\n",
       "      <td>0.00</td>\n",
       "      <td>0.5</td>\n",
       "      <td>4.43</td>\n",
       "      <td>0.0</td>\n",
       "      <td>1.0</td>\n",
       "      <td>26.58</td>\n",
       "      <td>NaN</td>\n",
       "      <td>NaN</td>\n",
       "    </tr>\n",
       "    <tr>\n",
       "      <th>3066765</th>\n",
       "      <td>2</td>\n",
       "      <td>2023-01-31 23:07:32</td>\n",
       "      <td>2023-01-31 23:21:56</td>\n",
       "      <td>NaN</td>\n",
       "      <td>2.85</td>\n",
       "      <td>NaN</td>\n",
       "      <td>None</td>\n",
       "      <td>262</td>\n",
       "      <td>143</td>\n",
       "      <td>0</td>\n",
       "      <td>15.97</td>\n",
       "      <td>0.00</td>\n",
       "      <td>0.5</td>\n",
       "      <td>2.00</td>\n",
       "      <td>0.0</td>\n",
       "      <td>1.0</td>\n",
       "      <td>21.97</td>\n",
       "      <td>NaN</td>\n",
       "      <td>NaN</td>\n",
       "    </tr>\n",
       "  </tbody>\n",
       "</table>\n",
       "<p>3066766 rows × 19 columns</p>\n",
       "</div>"
      ],
      "text/plain": [
       "         VendorID tpep_pickup_datetime tpep_dropoff_datetime  passenger_count  \\\n",
       "0               2  2023-01-01 00:32:10   2023-01-01 00:40:36              1.0   \n",
       "1               2  2023-01-01 00:55:08   2023-01-01 01:01:27              1.0   \n",
       "2               2  2023-01-01 00:25:04   2023-01-01 00:37:49              1.0   \n",
       "3               1  2023-01-01 00:03:48   2023-01-01 00:13:25              0.0   \n",
       "4               2  2023-01-01 00:10:29   2023-01-01 00:21:19              1.0   \n",
       "...           ...                  ...                   ...              ...   \n",
       "3066761         2  2023-01-31 23:58:34   2023-02-01 00:12:33              NaN   \n",
       "3066762         2  2023-01-31 23:31:09   2023-01-31 23:50:36              NaN   \n",
       "3066763         2  2023-01-31 23:01:05   2023-01-31 23:25:36              NaN   \n",
       "3066764         2  2023-01-31 23:40:00   2023-01-31 23:53:00              NaN   \n",
       "3066765         2  2023-01-31 23:07:32   2023-01-31 23:21:56              NaN   \n",
       "\n",
       "         trip_distance  RatecodeID store_and_fwd_flag  PULocationID  \\\n",
       "0                 0.97         1.0                  N           161   \n",
       "1                 1.10         1.0                  N            43   \n",
       "2                 2.51         1.0                  N            48   \n",
       "3                 1.90         1.0                  N           138   \n",
       "4                 1.43         1.0                  N           107   \n",
       "...                ...         ...                ...           ...   \n",
       "3066761           3.05         NaN               None           107   \n",
       "3066762           5.80         NaN               None           112   \n",
       "3066763           4.67         NaN               None           114   \n",
       "3066764           3.15         NaN               None           230   \n",
       "3066765           2.85         NaN               None           262   \n",
       "\n",
       "         DOLocationID  payment_type  fare_amount  extra  mta_tax  tip_amount  \\\n",
       "0                 141             2         9.30   1.00      0.5        0.00   \n",
       "1                 237             1         7.90   1.00      0.5        4.00   \n",
       "2                 238             1        14.90   1.00      0.5       15.00   \n",
       "3                   7             1        12.10   7.25      0.5        0.00   \n",
       "4                  79             1        11.40   1.00      0.5        3.28   \n",
       "...               ...           ...          ...    ...      ...         ...   \n",
       "3066761            48             0        15.80   0.00      0.5        3.96   \n",
       "3066762            75             0        22.43   0.00      0.5        2.64   \n",
       "3066763           239             0        17.61   0.00      0.5        5.32   \n",
       "3066764            79             0        18.15   0.00      0.5        4.43   \n",
       "3066765           143             0        15.97   0.00      0.5        2.00   \n",
       "\n",
       "         tolls_amount  improvement_surcharge  total_amount  \\\n",
       "0                 0.0                    1.0         14.30   \n",
       "1                 0.0                    1.0         16.90   \n",
       "2                 0.0                    1.0         34.90   \n",
       "3                 0.0                    1.0         20.85   \n",
       "4                 0.0                    1.0         19.68   \n",
       "...               ...                    ...           ...   \n",
       "3066761           0.0                    1.0         23.76   \n",
       "3066762           0.0                    1.0         29.07   \n",
       "3066763           0.0                    1.0         26.93   \n",
       "3066764           0.0                    1.0         26.58   \n",
       "3066765           0.0                    1.0         21.97   \n",
       "\n",
       "         congestion_surcharge  airport_fee  \n",
       "0                         2.5         0.00  \n",
       "1                         2.5         0.00  \n",
       "2                         2.5         0.00  \n",
       "3                         0.0         1.25  \n",
       "4                         2.5         0.00  \n",
       "...                       ...          ...  \n",
       "3066761                   NaN          NaN  \n",
       "3066762                   NaN          NaN  \n",
       "3066763                   NaN          NaN  \n",
       "3066764                   NaN          NaN  \n",
       "3066765                   NaN          NaN  \n",
       "\n",
       "[3066766 rows x 19 columns]"
      ]
     },
     "execution_count": 3,
     "metadata": {},
     "output_type": "execute_result"
    }
   ],
   "source": [
    "data"
   ]
  },
  {
   "cell_type": "code",
   "execution_count": 4,
   "id": "0bec283b",
   "metadata": {},
   "outputs": [],
   "source": [
    "data = data.dropna(axis = 0)"
   ]
  },
  {
   "cell_type": "code",
   "execution_count": 5,
   "id": "e598e29d",
   "metadata": {},
   "outputs": [],
   "source": [
    "data.insert(1, 'start_date', pd.to_datetime(data['tpep_pickup_datetime']).dt.date)"
   ]
  },
  {
   "cell_type": "code",
   "execution_count": 6,
   "id": "ed11aad8",
   "metadata": {},
   "outputs": [],
   "source": [
    "data = data.drop(['tpep_pickup_datetime','tpep_dropoff_datetime'], axis=1)"
   ]
  },
  {
   "cell_type": "code",
   "execution_count": 7,
   "id": "889994e7",
   "metadata": {},
   "outputs": [],
   "source": [
    "data = data.drop(data[data['trip_distance'] > 30].index)"
   ]
  },
  {
   "cell_type": "code",
   "execution_count": 8,
   "id": "894844ee",
   "metadata": {},
   "outputs": [
    {
     "data": {
      "text/html": [
       "<div>\n",
       "<style scoped>\n",
       "    .dataframe tbody tr th:only-of-type {\n",
       "        vertical-align: middle;\n",
       "    }\n",
       "\n",
       "    .dataframe tbody tr th {\n",
       "        vertical-align: top;\n",
       "    }\n",
       "\n",
       "    .dataframe thead th {\n",
       "        text-align: right;\n",
       "    }\n",
       "</style>\n",
       "<table border=\"1\" class=\"dataframe\">\n",
       "  <thead>\n",
       "    <tr style=\"text-align: right;\">\n",
       "      <th></th>\n",
       "      <th>VendorID</th>\n",
       "      <th>start_date</th>\n",
       "      <th>passenger_count</th>\n",
       "      <th>trip_distance</th>\n",
       "      <th>RatecodeID</th>\n",
       "      <th>store_and_fwd_flag</th>\n",
       "      <th>PULocationID</th>\n",
       "      <th>DOLocationID</th>\n",
       "      <th>payment_type</th>\n",
       "      <th>fare_amount</th>\n",
       "      <th>extra</th>\n",
       "      <th>mta_tax</th>\n",
       "      <th>tip_amount</th>\n",
       "      <th>tolls_amount</th>\n",
       "      <th>improvement_surcharge</th>\n",
       "      <th>total_amount</th>\n",
       "      <th>congestion_surcharge</th>\n",
       "      <th>airport_fee</th>\n",
       "    </tr>\n",
       "  </thead>\n",
       "  <tbody>\n",
       "    <tr>\n",
       "      <th>0</th>\n",
       "      <td>2</td>\n",
       "      <td>2023-01-01</td>\n",
       "      <td>1.0</td>\n",
       "      <td>0.97</td>\n",
       "      <td>1.0</td>\n",
       "      <td>N</td>\n",
       "      <td>161</td>\n",
       "      <td>141</td>\n",
       "      <td>2</td>\n",
       "      <td>9.3</td>\n",
       "      <td>1.00</td>\n",
       "      <td>0.5</td>\n",
       "      <td>0.00</td>\n",
       "      <td>0.0</td>\n",
       "      <td>1.0</td>\n",
       "      <td>14.30</td>\n",
       "      <td>2.5</td>\n",
       "      <td>0.00</td>\n",
       "    </tr>\n",
       "    <tr>\n",
       "      <th>1</th>\n",
       "      <td>2</td>\n",
       "      <td>2023-01-01</td>\n",
       "      <td>1.0</td>\n",
       "      <td>1.10</td>\n",
       "      <td>1.0</td>\n",
       "      <td>N</td>\n",
       "      <td>43</td>\n",
       "      <td>237</td>\n",
       "      <td>1</td>\n",
       "      <td>7.9</td>\n",
       "      <td>1.00</td>\n",
       "      <td>0.5</td>\n",
       "      <td>4.00</td>\n",
       "      <td>0.0</td>\n",
       "      <td>1.0</td>\n",
       "      <td>16.90</td>\n",
       "      <td>2.5</td>\n",
       "      <td>0.00</td>\n",
       "    </tr>\n",
       "    <tr>\n",
       "      <th>2</th>\n",
       "      <td>2</td>\n",
       "      <td>2023-01-01</td>\n",
       "      <td>1.0</td>\n",
       "      <td>2.51</td>\n",
       "      <td>1.0</td>\n",
       "      <td>N</td>\n",
       "      <td>48</td>\n",
       "      <td>238</td>\n",
       "      <td>1</td>\n",
       "      <td>14.9</td>\n",
       "      <td>1.00</td>\n",
       "      <td>0.5</td>\n",
       "      <td>15.00</td>\n",
       "      <td>0.0</td>\n",
       "      <td>1.0</td>\n",
       "      <td>34.90</td>\n",
       "      <td>2.5</td>\n",
       "      <td>0.00</td>\n",
       "    </tr>\n",
       "    <tr>\n",
       "      <th>3</th>\n",
       "      <td>1</td>\n",
       "      <td>2023-01-01</td>\n",
       "      <td>0.0</td>\n",
       "      <td>1.90</td>\n",
       "      <td>1.0</td>\n",
       "      <td>N</td>\n",
       "      <td>138</td>\n",
       "      <td>7</td>\n",
       "      <td>1</td>\n",
       "      <td>12.1</td>\n",
       "      <td>7.25</td>\n",
       "      <td>0.5</td>\n",
       "      <td>0.00</td>\n",
       "      <td>0.0</td>\n",
       "      <td>1.0</td>\n",
       "      <td>20.85</td>\n",
       "      <td>0.0</td>\n",
       "      <td>1.25</td>\n",
       "    </tr>\n",
       "    <tr>\n",
       "      <th>4</th>\n",
       "      <td>2</td>\n",
       "      <td>2023-01-01</td>\n",
       "      <td>1.0</td>\n",
       "      <td>1.43</td>\n",
       "      <td>1.0</td>\n",
       "      <td>N</td>\n",
       "      <td>107</td>\n",
       "      <td>79</td>\n",
       "      <td>1</td>\n",
       "      <td>11.4</td>\n",
       "      <td>1.00</td>\n",
       "      <td>0.5</td>\n",
       "      <td>3.28</td>\n",
       "      <td>0.0</td>\n",
       "      <td>1.0</td>\n",
       "      <td>19.68</td>\n",
       "      <td>2.5</td>\n",
       "      <td>0.00</td>\n",
       "    </tr>\n",
       "    <tr>\n",
       "      <th>...</th>\n",
       "      <td>...</td>\n",
       "      <td>...</td>\n",
       "      <td>...</td>\n",
       "      <td>...</td>\n",
       "      <td>...</td>\n",
       "      <td>...</td>\n",
       "      <td>...</td>\n",
       "      <td>...</td>\n",
       "      <td>...</td>\n",
       "      <td>...</td>\n",
       "      <td>...</td>\n",
       "      <td>...</td>\n",
       "      <td>...</td>\n",
       "      <td>...</td>\n",
       "      <td>...</td>\n",
       "      <td>...</td>\n",
       "      <td>...</td>\n",
       "      <td>...</td>\n",
       "    </tr>\n",
       "    <tr>\n",
       "      <th>2995018</th>\n",
       "      <td>1</td>\n",
       "      <td>2023-01-31</td>\n",
       "      <td>1.0</td>\n",
       "      <td>13.90</td>\n",
       "      <td>99.0</td>\n",
       "      <td>N</td>\n",
       "      <td>228</td>\n",
       "      <td>159</td>\n",
       "      <td>1</td>\n",
       "      <td>50.5</td>\n",
       "      <td>0.00</td>\n",
       "      <td>0.5</td>\n",
       "      <td>0.00</td>\n",
       "      <td>0.0</td>\n",
       "      <td>1.0</td>\n",
       "      <td>52.00</td>\n",
       "      <td>0.0</td>\n",
       "      <td>0.00</td>\n",
       "    </tr>\n",
       "    <tr>\n",
       "      <th>2995019</th>\n",
       "      <td>2</td>\n",
       "      <td>2023-01-31</td>\n",
       "      <td>1.0</td>\n",
       "      <td>3.37</td>\n",
       "      <td>1.0</td>\n",
       "      <td>N</td>\n",
       "      <td>263</td>\n",
       "      <td>107</td>\n",
       "      <td>1</td>\n",
       "      <td>15.6</td>\n",
       "      <td>1.00</td>\n",
       "      <td>0.5</td>\n",
       "      <td>2.00</td>\n",
       "      <td>0.0</td>\n",
       "      <td>1.0</td>\n",
       "      <td>22.60</td>\n",
       "      <td>2.5</td>\n",
       "      <td>0.00</td>\n",
       "    </tr>\n",
       "    <tr>\n",
       "      <th>2995020</th>\n",
       "      <td>2</td>\n",
       "      <td>2023-01-31</td>\n",
       "      <td>1.0</td>\n",
       "      <td>2.86</td>\n",
       "      <td>1.0</td>\n",
       "      <td>N</td>\n",
       "      <td>79</td>\n",
       "      <td>246</td>\n",
       "      <td>1</td>\n",
       "      <td>16.3</td>\n",
       "      <td>1.00</td>\n",
       "      <td>0.5</td>\n",
       "      <td>2.00</td>\n",
       "      <td>0.0</td>\n",
       "      <td>1.0</td>\n",
       "      <td>23.30</td>\n",
       "      <td>2.5</td>\n",
       "      <td>0.00</td>\n",
       "    </tr>\n",
       "    <tr>\n",
       "      <th>2995021</th>\n",
       "      <td>1</td>\n",
       "      <td>2023-01-31</td>\n",
       "      <td>2.0</td>\n",
       "      <td>3.80</td>\n",
       "      <td>1.0</td>\n",
       "      <td>N</td>\n",
       "      <td>68</td>\n",
       "      <td>238</td>\n",
       "      <td>1</td>\n",
       "      <td>17.7</td>\n",
       "      <td>3.50</td>\n",
       "      <td>0.5</td>\n",
       "      <td>2.50</td>\n",
       "      <td>0.0</td>\n",
       "      <td>1.0</td>\n",
       "      <td>25.20</td>\n",
       "      <td>2.5</td>\n",
       "      <td>0.00</td>\n",
       "    </tr>\n",
       "    <tr>\n",
       "      <th>2995022</th>\n",
       "      <td>2</td>\n",
       "      <td>2023-01-31</td>\n",
       "      <td>1.0</td>\n",
       "      <td>0.60</td>\n",
       "      <td>1.0</td>\n",
       "      <td>N</td>\n",
       "      <td>236</td>\n",
       "      <td>262</td>\n",
       "      <td>2</td>\n",
       "      <td>5.8</td>\n",
       "      <td>1.00</td>\n",
       "      <td>0.5</td>\n",
       "      <td>0.00</td>\n",
       "      <td>0.0</td>\n",
       "      <td>1.0</td>\n",
       "      <td>10.80</td>\n",
       "      <td>2.5</td>\n",
       "      <td>0.00</td>\n",
       "    </tr>\n",
       "  </tbody>\n",
       "</table>\n",
       "<p>2992583 rows × 18 columns</p>\n",
       "</div>"
      ],
      "text/plain": [
       "         VendorID  start_date  passenger_count  trip_distance  RatecodeID  \\\n",
       "0               2  2023-01-01              1.0           0.97         1.0   \n",
       "1               2  2023-01-01              1.0           1.10         1.0   \n",
       "2               2  2023-01-01              1.0           2.51         1.0   \n",
       "3               1  2023-01-01              0.0           1.90         1.0   \n",
       "4               2  2023-01-01              1.0           1.43         1.0   \n",
       "...           ...         ...              ...            ...         ...   \n",
       "2995018         1  2023-01-31              1.0          13.90        99.0   \n",
       "2995019         2  2023-01-31              1.0           3.37         1.0   \n",
       "2995020         2  2023-01-31              1.0           2.86         1.0   \n",
       "2995021         1  2023-01-31              2.0           3.80         1.0   \n",
       "2995022         2  2023-01-31              1.0           0.60         1.0   \n",
       "\n",
       "        store_and_fwd_flag  PULocationID  DOLocationID  payment_type  \\\n",
       "0                        N           161           141             2   \n",
       "1                        N            43           237             1   \n",
       "2                        N            48           238             1   \n",
       "3                        N           138             7             1   \n",
       "4                        N           107            79             1   \n",
       "...                    ...           ...           ...           ...   \n",
       "2995018                  N           228           159             1   \n",
       "2995019                  N           263           107             1   \n",
       "2995020                  N            79           246             1   \n",
       "2995021                  N            68           238             1   \n",
       "2995022                  N           236           262             2   \n",
       "\n",
       "         fare_amount  extra  mta_tax  tip_amount  tolls_amount  \\\n",
       "0                9.3   1.00      0.5        0.00           0.0   \n",
       "1                7.9   1.00      0.5        4.00           0.0   \n",
       "2               14.9   1.00      0.5       15.00           0.0   \n",
       "3               12.1   7.25      0.5        0.00           0.0   \n",
       "4               11.4   1.00      0.5        3.28           0.0   \n",
       "...              ...    ...      ...         ...           ...   \n",
       "2995018         50.5   0.00      0.5        0.00           0.0   \n",
       "2995019         15.6   1.00      0.5        2.00           0.0   \n",
       "2995020         16.3   1.00      0.5        2.00           0.0   \n",
       "2995021         17.7   3.50      0.5        2.50           0.0   \n",
       "2995022          5.8   1.00      0.5        0.00           0.0   \n",
       "\n",
       "         improvement_surcharge  total_amount  congestion_surcharge  \\\n",
       "0                          1.0         14.30                   2.5   \n",
       "1                          1.0         16.90                   2.5   \n",
       "2                          1.0         34.90                   2.5   \n",
       "3                          1.0         20.85                   0.0   \n",
       "4                          1.0         19.68                   2.5   \n",
       "...                        ...           ...                   ...   \n",
       "2995018                    1.0         52.00                   0.0   \n",
       "2995019                    1.0         22.60                   2.5   \n",
       "2995020                    1.0         23.30                   2.5   \n",
       "2995021                    1.0         25.20                   2.5   \n",
       "2995022                    1.0         10.80                   2.5   \n",
       "\n",
       "         airport_fee  \n",
       "0               0.00  \n",
       "1               0.00  \n",
       "2               0.00  \n",
       "3               1.25  \n",
       "4               0.00  \n",
       "...              ...  \n",
       "2995018         0.00  \n",
       "2995019         0.00  \n",
       "2995020         0.00  \n",
       "2995021         0.00  \n",
       "2995022         0.00  \n",
       "\n",
       "[2992583 rows x 18 columns]"
      ]
     },
     "execution_count": 8,
     "metadata": {},
     "output_type": "execute_result"
    }
   ],
   "source": [
    "data"
   ]
  },
  {
   "cell_type": "code",
   "execution_count": 9,
   "id": "67168730",
   "metadata": {},
   "outputs": [],
   "source": [
    "week_1  = data[data['start_date'] <= datetime.date(2023, 1, 7)]"
   ]
  },
  {
   "cell_type": "code",
   "execution_count": 10,
   "id": "92e8846c",
   "metadata": {},
   "outputs": [],
   "source": [
    "week_1 = week_1.drop(week_1[week_1['start_date'] == datetime.date(2008, 12, 31)].index)"
   ]
  },
  {
   "cell_type": "code",
   "execution_count": 11,
   "id": "817aad33",
   "metadata": {},
   "outputs": [],
   "source": [
    "week_2 = data[datetime.date(2023, 1, 8) <= data['start_date']]\n",
    "week_2 = week_2[datetime.date(2023, 1, 14) >= week_2['start_date']]"
   ]
  },
  {
   "cell_type": "code",
   "execution_count": 12,
   "id": "1da1a4a0",
   "metadata": {},
   "outputs": [],
   "source": [
    "week_3 = data[datetime.date(2023, 1, 15) <= data['start_date']]\n",
    "week_3 = week_3[datetime.date(2023, 1, 21) >= week_3['start_date']]"
   ]
  },
  {
   "cell_type": "code",
   "execution_count": 13,
   "id": "0afd1129",
   "metadata": {},
   "outputs": [],
   "source": [
    "week_4 = data[datetime.date(2023, 1, 22) <= data['start_date']]\n",
    "week_4 = week_4[datetime.date(2023, 1, 28) >= week_4['start_date']]"
   ]
  },
  {
   "cell_type": "markdown",
   "id": "b74249ad",
   "metadata": {},
   "source": [
    "### 1. Проверка гипотезы о равенстве распределений длин поездок (непрерывная метрика)."
   ]
  },
  {
   "cell_type": "markdown",
   "id": "9364deec",
   "metadata": {},
   "source": [
    "***Зафиксируем уровень значимости*** \n",
    "\n",
    "$\\alpha = 0.05$"
   ]
  },
  {
   "cell_type": "markdown",
   "id": "2380f3a4",
   "metadata": {},
   "source": [
    "### $ \\mathbb{H_0}$***:  распределения длин поездок одинаковы.***"
   ]
  },
  {
   "cell_type": "markdown",
   "id": "4f7977f7",
   "metadata": {},
   "source": [
    "**Построим графики плотностей и визуально оценим распределения.**"
   ]
  },
  {
   "cell_type": "code",
   "execution_count": 14,
   "id": "e8d9c1ac",
   "metadata": {},
   "outputs": [
    {
     "data": {
      "image/png": "[encoded data removed]",
      "text/plain": [
       "<Figure size 900x500 with 1 Axes>"
      ]
     },
     "metadata": {},
     "output_type": "display_data"
    }
   ],
   "source": [
    "plt.figure(figsize=(9,5))\n",
    "sns.kdeplot(week_1['trip_distance'],fill=True,color='blue')\n",
    "sns.kdeplot(week_2['trip_distance'],fill=True,color='red')\n",
    "sns.kdeplot(week_3['trip_distance'],fill=True,color='yellow')\n",
    "sns.kdeplot(week_4['trip_distance'],fill=True,color='black')\n",
    "plt.legend(['week_1','week_2','week_3','week_4'],fontsize=14)\n",
    "plt.show()"
   ]
  },
  {
   "cell_type": "markdown",
   "id": "324d9190",
   "metadata": {},
   "source": [
    "**Хорошо видно, что формы распределений похожи, но есть различия в пиках, это может служить сигналом о том, что распределения могут отличаться.**"
   ]
  },
  {
   "cell_type": "markdown",
   "id": "1f009d7d",
   "metadata": {},
   "source": [
    "***Оценим выборочные характеристики***"
   ]
  },
  {
   "cell_type": "code",
   "execution_count": 15,
   "id": "948e1f96",
   "metadata": {},
   "outputs": [
    {
     "name": "stdout",
     "output_type": "stream",
     "text": [
      "1 неделя: \n",
      " среднее =  3.61 медиана =  1.85 ско = 4.603588998852219 \n",
      " 2 неделя: \n",
      " среднее =  3.34 медиана =  1.77 ско = 4.279427686872974 \n",
      " 3 неделя: \n",
      " среднее =  3.28 медиана =  1.77 ско = 4.199605188069421 \n",
      " 4 неделя: \n",
      " среднее =  3.15 медиана =  1.71 ско = 4.032150357310187 \n",
      "\n"
     ]
    }
   ],
   "source": [
    "print('1 неделя:', '\\n','среднее = ',week_1['trip_distance'].mean().round(2), 'медиана = ',week_1['trip_distance'].median(), 'ско =',  week_1['trip_distance'].std(),'\\n',\n",
    "     '2 неделя:', '\\n','среднее = ',week_2['trip_distance'].mean().round(2), 'медиана = ',week_2['trip_distance'].median(), 'ско =', week_2['trip_distance'].std(),'\\n',\n",
    "     '3 неделя:', '\\n','среднее = ',week_3['trip_distance'].mean().round(2), 'медиана = ',week_3['trip_distance'].median(), 'ско =',week_3['trip_distance'].std(),'\\n',\n",
    "     '4 неделя:', '\\n','среднее = ',week_4['trip_distance'].mean().round(2), 'медиана = ',week_4['trip_distance'].median(), 'ско =',week_4['trip_distance'].std(),'\\n',)"
   ]
  },
  {
   "cell_type": "markdown",
   "id": "09768d65",
   "metadata": {},
   "source": [
    "**Выборочные характеристики довольно близки, проведем стат. тест чтобы понять верна ли нулевая гипотеза.**"
   ]
  },
  {
   "cell_type": "markdown",
   "id": "647f5fca",
   "metadata": {},
   "source": [
    "***One-way ANOVA***"
   ]
  },
  {
   "cell_type": "markdown",
   "id": "2251d615",
   "metadata": {},
   "source": [
    "$ \\mathbb{H_0}$**: средние длин поездок одинаковы.**"
   ]
  },
  {
   "cell_type": "code",
   "execution_count": 16,
   "id": "f41b6714",
   "metadata": {},
   "outputs": [
    {
     "data": {
      "text/plain": [
       "F_onewayResult(statistic=1372.2826811342024, pvalue=0.0)"
      ]
     },
     "execution_count": 16,
     "metadata": {},
     "output_type": "execute_result"
    }
   ],
   "source": [
    "sp.stats.f_oneway(week_1['trip_distance'],week_2['trip_distance'],week_3['trip_distance'],week_4['trip_distance'])"
   ]
  },
  {
   "cell_type": "markdown",
   "id": "094f3dc7",
   "metadata": {},
   "source": [
    "***p-val < $\\normalsize \\alpha $ => отвергаем гипотезу о равенстве средних у распределений.***"
   ]
  },
  {
   "cell_type": "markdown",
   "id": "73f6af46",
   "metadata": {},
   "source": [
    "**Теперь оценим распределение в динамике (как оно менялось от недели к неделе) при помощи теста Мана-Уитни.**"
   ]
  },
  {
   "cell_type": "code",
   "execution_count": 17,
   "id": "71794a5e",
   "metadata": {},
   "outputs": [
    {
     "name": "stdout",
     "output_type": "stream",
     "text": [
      "MannwhitneyuResult(statistic=220818588076.0, pvalue=8.555462705898098e-216) \n",
      " MannwhitneyuResult(statistic=244733337211.0, pvalue=0.026774998396886723) \n",
      " MannwhitneyuResult(statistic=255070028971.0, pvalue=1.2950378197703925e-77) \n",
      "\n"
     ]
    }
   ],
   "source": [
    "print(sp.stats.mannwhitneyu(week_1['trip_distance'], week_2['trip_distance']),'\\n',\n",
    "    sp.stats.mannwhitneyu(week_2['trip_distance'], week_3['trip_distance']),'\\n',\n",
    "    sp.stats.mannwhitneyu(week_3['trip_distance'], week_4['trip_distance']),'\\n')"
   ]
  },
  {
   "cell_type": "markdown",
   "id": "0aa51f19",
   "metadata": {},
   "source": [
    "***В каждом случае p-val < $\\normalsize \\alpha $ => отвергаем гипотезу о равенстве распределений.***"
   ]
  },
  {
   "cell_type": "markdown",
   "id": "1642803b",
   "metadata": {},
   "source": [
    "**Также оценим распределение в динамике (как оно менялось от недели к неделе), но в этот раз при помощи теста Колмогорова-Смирнова.**"
   ]
  },
  {
   "cell_type": "code",
   "execution_count": 18,
   "id": "2e8a4081",
   "metadata": {},
   "outputs": [
    {
     "name": "stdout",
     "output_type": "stream",
     "text": [
      "KstestResult(statistic=0.024690235325688925, pvalue=2.322717290278919e-173, statistic_location=2.5, statistic_sign=-1) \n",
      " KstestResult(statistic=0.004840439856058754, pvalue=1.5433230001097772e-07, statistic_location=5.68, statistic_sign=-1) \n",
      " KstestResult(statistic=0.012249425680273707, pvalue=1.4758573111392996e-46, statistic_location=1.35, statistic_sign=-1) \n",
      "\n"
     ]
    }
   ],
   "source": [
    "print(sp.stats.kstest(week_1['trip_distance'],week_2['trip_distance']),'\\n',\n",
    "    sp.stats.kstest(week_2['trip_distance'],week_3['trip_distance']),'\\n',\n",
    "    sp.stats.kstest(week_3['trip_distance'],week_4['trip_distance']),'\\n')"
   ]
  },
  {
   "cell_type": "markdown",
   "id": "79102e46",
   "metadata": {},
   "source": [
    "***Видим такую же картину, в каждом случае p-val < $\\normalsize \\alpha $ => отвергаем гипотезу о равенстве распределений.***"
   ]
  },
  {
   "cell_type": "markdown",
   "id": "9dd44a01",
   "metadata": {},
   "source": [
    "**Проверим резльтаты теста бутстрапом**"
   ]
  },
  {
   "cell_type": "code",
   "execution_count": 19,
   "id": "44fb8dd4",
   "metadata": {},
   "outputs": [
    {
     "name": "stderr",
     "output_type": "stream",
     "text": [
      "100%|████████████████████████████████████████████████████████████████████████████████| 400/400 [10:26<00:00,  1.57s/it]"
     ]
    },
    {
     "name": "stdout",
     "output_type": "stream",
     "text": [
      "Наблюдаемая статистика Колмогорова распределений 1 и 2 недель: 0.024690235325688925\n",
      "p-value: 0.0\n",
      "Отвергаем нулевую гипотезу - распределения 1 и 2 недель различны. \n",
      "\n",
      "Наблюдаемая статистика Колмогорова распределений 2 и 3 недель: 0.004840439856058754\n",
      "p-value: 0.0\n",
      "Отвергаем нулевую гипотезу - распределения 2 и 3 недель различны. \n",
      "\n",
      "Наблюдаемая статистика Колмогорова распределений 3 и 4 недель: 0.012249425680273707\n",
      "p-value: 0.0\n",
      "Отвергаем нулевую гипотезу - распределения 3 и 4 недель различны. \n",
      "\n"
     ]
    },
    {
     "name": "stderr",
     "output_type": "stream",
     "text": [
      "\n"
     ]
    }
   ],
   "source": [
    "observed_statistic_1_2 = sp.stats.kstest(week_1['trip_distance'],week_2['trip_distance']).statistic\n",
    "observed_statistic_2_3 = sp.stats.kstest(week_2['trip_distance'],week_3['trip_distance']).statistic\n",
    "observed_statistic_3_4 = sp.stats.kstest(week_3['trip_distance'],week_4['trip_distance']).statistic\n",
    "\n",
    "bootstrap_statistics_1_2 = []\n",
    "bootstrap_statistics_2_3 = []\n",
    "bootstrap_statistics_3_4 = []\n",
    "\n",
    "for _ in tqdm(range(400)):\n",
    "    bootstrap_w1 = np.random.choice(week_1['trip_distance'], size = len(week_1['trip_distance']), replace=True)\n",
    "    bootstrap_w2 = np.random.choice(week_2['trip_distance'], size = len(week_2['trip_distance']), replace=True)\n",
    "    bootstrap_w3 = np.random.choice(week_3['trip_distance'], size = len(week_3['trip_distance']), replace=True)\n",
    "    bootstrap_w4 = np.random.choice(week_4['trip_distance'], size = len(week_4['trip_distance']), replace=True)  \n",
    "    \n",
    "    bootstrap_statistic_1_2 = sp.stats.kstest(bootstrap_w1, bootstrap_w2).statistic\n",
    "    bootstrap_statistic_2_3 = sp.stats.kstest(bootstrap_w2, bootstrap_w3).statistic\n",
    "    bootstrap_statistic_3_4 = sp.stats.kstest(bootstrap_w3, bootstrap_w4).statistic\n",
    "    \n",
    "    bootstrap_statistics_1_2.append(bootstrap_statistic_1_2)\n",
    "    bootstrap_statistics_2_3.append(bootstrap_statistic_2_3)\n",
    "    bootstrap_statistics_3_4.append(bootstrap_statistic_3_4)\n",
    "    bootstrap_statistic_1_2 = 0\n",
    "    bootstrap_statistic_2_3 = 0\n",
    "    bootstrap_statistic_3_4 = 0\n",
    "    \n",
    "p_value_1_2 = np.mean(np.array(bootstrap_statistic_1_2) >= observed_statistic_1_2)\n",
    "p_value_2_3 = np.mean(np.array(bootstrap_statistic_2_3) >= observed_statistic_2_3)\n",
    "p_value_3_4 = np.mean(np.array(bootstrap_statistic_3_4) >= observed_statistic_3_4)\n",
    "\n",
    "print(\"Наблюдаемая статистика Колмогорова распределений 1 и 2 недель:\", observed_statistic_1_2)\n",
    "print(\"p-value:\", p_value_1_2)\n",
    "\n",
    "if p_value_1_2 < 0.05:\n",
    "    print(\"Отвергаем нулевую гипотезу - распределения 1 и 2 недель различны.\", '\\n')\n",
    "else:\n",
    "    print(\"Принимаем нулевую гипотезу - распредения 1 и 2 недель одинаковы.\", '\\n')\n",
    "\n",
    "print(\"Наблюдаемая статистика Колмогорова распределений 2 и 3 недель:\", observed_statistic_2_3)\n",
    "print(\"p-value:\", p_value_2_3)\n",
    "\n",
    "if p_value_2_3 < 0.05:\n",
    "    print(\"Отвергаем нулевую гипотезу - распределения 2 и 3 недель различны.\", '\\n')\n",
    "else:\n",
    "    print(\"Принимаем нулевую гипотезу - распредения 2 и 3 недель одинаковы.\", '\\n')\n",
    "    \n",
    "print(\"Наблюдаемая статистика Колмогорова распределений 3 и 4 недель:\", observed_statistic_3_4)\n",
    "print(\"p-value:\", p_value_3_4)\n",
    "\n",
    "if p_value_3_4 < 0.05:\n",
    "    print(\"Отвергаем нулевую гипотезу - распределения 3 и 4 недель различны.\", '\\n')\n",
    "else:\n",
    "    print(\"Принимаем нулевую гипотезу - распредения 3 и 4 недель одинаковы.\", '\\n')\n",
    "    "
   ]
  },
  {
   "cell_type": "markdown",
   "id": "69be6c83",
   "metadata": {},
   "source": [
    "**Результаты бутстрапа совпали с результатами теста.**"
   ]
  },
  {
   "cell_type": "markdown",
   "id": "c655d739",
   "metadata": {},
   "source": [
    "### Делаем вывод о том, что каждую неделю распределение длин поездок менялось. \n",
    "**Скорее всего на это повлияли новогодние праздники, т.к. в первую неделю наблюдалась наибольшая средняя длина поездок.**"
   ]
  },
  {
   "cell_type": "markdown",
   "id": "8e4a6f8e",
   "metadata": {},
   "source": [
    "*****"
   ]
  },
  {
   "cell_type": "markdown",
   "id": "3d24ac07",
   "metadata": {},
   "source": [
    "### 2. Проверка гипотезы о равенстве распределений числа пассажиров (дискретная метрика)."
   ]
  },
  {
   "cell_type": "markdown",
   "id": "7d123b33",
   "metadata": {},
   "source": [
    "***Зафиксируем уровень значимости*** \n",
    "\n",
    "$\\alpha = 0.05$"
   ]
  },
  {
   "cell_type": "markdown",
   "id": "5a369b29",
   "metadata": {},
   "source": [
    "### $ \\mathbb{H_0}$***:  распределения количества числа пассажиров одинаковы.***"
   ]
  },
  {
   "cell_type": "markdown",
   "id": "0b7e5aa5",
   "metadata": {},
   "source": [
    "**Построим графики плотностей и визуально оценим распределения.**"
   ]
  },
  {
   "cell_type": "code",
   "execution_count": 20,
   "id": "ad16a44b",
   "metadata": {},
   "outputs": [
    {
     "data": {
      "image/png": "[encoded data removed]",
      "text/plain": [
       "<Figure size 900x500 with 1 Axes>"
      ]
     },
     "metadata": {},
     "output_type": "display_data"
    }
   ],
   "source": [
    "plt.figure(figsize=(9,5))\n",
    "sns.kdeplot(week_1['passenger_count'],fill=True,color='Blue')\n",
    "sns.kdeplot(week_2['passenger_count'],fill=True,color='red')\n",
    "sns.kdeplot(week_3['passenger_count'],fill=True,color='yellow')\n",
    "sns.kdeplot(week_4['passenger_count'],fill=True,color='black')\n",
    "plt.legend(['week_1','week_2','week_3','week_4'],fontsize=14)\n",
    "plt.show()"
   ]
  },
  {
   "cell_type": "markdown",
   "id": "5d55ceed",
   "metadata": {},
   "source": [
    "**Видно, что формы распределений похожи, но есть различия в пиках, как в предыдущем случае. Это может служить сигналом о том, что распределения могут отличаться.**"
   ]
  },
  {
   "cell_type": "markdown",
   "id": "cc5abb0c",
   "metadata": {},
   "source": [
    "***Оценим выборочные характеристики***"
   ]
  },
  {
   "cell_type": "code",
   "execution_count": 21,
   "id": "f8bc1c56",
   "metadata": {},
   "outputs": [
    {
     "name": "stdout",
     "output_type": "stream",
     "text": [
      "1 неделя: \n",
      " среднее =  1.42 медиана =  1.0 ско = 0.9389389908127853 \n",
      " 2 неделя: \n",
      " среднее =  1.36 медиана =  1.0 ско = 0.894112753412992 \n",
      " 3 неделя: \n",
      " среднее =  1.36 медиана =  1.0 ско = 0.8910297011909475 \n",
      " 4 неделя: \n",
      " среднее =  1.34 медиана =  1.0 ско = 0.8755108576785857 \n",
      "\n"
     ]
    }
   ],
   "source": [
    "print('1 неделя:', '\\n','среднее = ',week_1['passenger_count'].mean().round(2), 'медиана = ',week_1['passenger_count'].median(), 'ско =',  week_1['passenger_count'].std(),'\\n',\n",
    "     '2 неделя:', '\\n','среднее = ',week_2['passenger_count'].mean().round(2), 'медиана = ',week_2['passenger_count'].median(), 'ско =', week_2['passenger_count'].std(),'\\n',\n",
    "     '3 неделя:', '\\n','среднее = ',week_3['passenger_count'].mean().round(2), 'медиана = ',week_3['passenger_count'].median(), 'ско =',week_3['passenger_count'].std(),'\\n',\n",
    "     '4 неделя:', '\\n','среднее = ',week_4['passenger_count'].mean().round(2), 'медиана = ',week_4['passenger_count'].median(), 'ско =',week_4['passenger_count'].std(),'\\n',)"
   ]
  },
  {
   "cell_type": "markdown",
   "id": "4d251645",
   "metadata": {},
   "source": [
    "**Медиана ожидаемо равна у всех недель, т.к. чаще всего люди едут в такси одни.**\n",
    "\n",
    "**Выборочные характеристики 2 и 3 недель очень близки, возможно распределение пассажиров в эти недели будет одинаковым**"
   ]
  },
  {
   "cell_type": "code",
   "execution_count": 22,
   "id": "8a7ccf08",
   "metadata": {},
   "outputs": [],
   "source": [
    "passenger_w1 = [week_1['passenger_count'].value_counts()[1],week_1['passenger_count'].value_counts()[2],week_1['passenger_count'].value_counts()[3],\n",
    "               week_1['passenger_count'].value_counts()[4],week_1['passenger_count'].value_counts()[5],week_1['passenger_count'].value_counts()[6],]\n",
    "passenger_w2 = [week_2['passenger_count'].value_counts()[1],week_2['passenger_count'].value_counts()[2],week_2['passenger_count'].value_counts()[3],\n",
    "               week_2['passenger_count'].value_counts()[4],week_2['passenger_count'].value_counts()[5],week_2['passenger_count'].value_counts()[6],]\n",
    "passenger_w3 = [week_3['passenger_count'].value_counts()[1],week_3['passenger_count'].value_counts()[2],week_3['passenger_count'].value_counts()[3],\n",
    "               week_3['passenger_count'].value_counts()[4],week_3['passenger_count'].value_counts()[5],week_3['passenger_count'].value_counts()[6],]\n",
    "passenger_w4 = [week_4['passenger_count'].value_counts()[1],week_4['passenger_count'].value_counts()[2],week_4['passenger_count'].value_counts()[3],\n",
    "               week_4['passenger_count'].value_counts()[4],week_4['passenger_count'].value_counts()[5],week_4['passenger_count'].value_counts()[6],]"
   ]
  },
  {
   "cell_type": "code",
   "execution_count": 23,
   "id": "64b979b5",
   "metadata": {},
   "outputs": [],
   "source": [
    "pass_list = [passenger_w1, passenger_w2, passenger_w3, passenger_w4]"
   ]
  },
  {
   "cell_type": "code",
   "execution_count": 24,
   "id": "0cbf1719",
   "metadata": {},
   "outputs": [
    {
     "data": {
      "text/plain": [
       "[[444840, 103107, 26727, 16036, 9019, 5700],\n",
       " [527392, 103426, 23686, 11752, 10084, 6664],\n",
       " [533403, 104857, 24245, 11754, 10233, 6545],\n",
       " [547842, 102555, 23212, 10425, 9697, 6837]]"
      ]
     },
     "execution_count": 24,
     "metadata": {},
     "output_type": "execute_result"
    }
   ],
   "source": [
    "pass_list"
   ]
  },
  {
   "cell_type": "markdown",
   "id": "2cca48f5",
   "metadata": {},
   "source": [
    "***Воспользуемся критерием Пирсона, т.к. он используется для проверки гипотезы о принадлежности независимых выборок одному закону распределения в дискретном случае.***"
   ]
  },
  {
   "cell_type": "code",
   "execution_count": 25,
   "id": "2af486f3",
   "metadata": {},
   "outputs": [
    {
     "data": {
      "text/plain": [
       "Chi2ContingencyResult(statistic=6456.028930470291, pvalue=0.0, dof=15, expected_freq=array([[463886.90258608,  93511.47536154,  22109.14032935,\n",
       "         11287.70220534,   8817.67727062,   5816.10224706],\n",
       "       [523325.79049551, 105493.31419181,  24942.03495622,\n",
       "         12734.0212594 ,   9947.50639058,   6561.33270648],\n",
       "       [529480.77066407, 106734.05039966,  25235.38516618,\n",
       "         12883.789625  ,  10064.50177983,   6638.50236526],\n",
       "       [536783.53625434, 108206.16004698,  25583.43954825,\n",
       "         13061.48691026,  10203.31455897,   6730.0626812 ]]))"
      ]
     },
     "execution_count": 25,
     "metadata": {},
     "output_type": "execute_result"
    }
   ],
   "source": [
    "sp.stats.chi2_contingency(pass_list)"
   ]
  },
  {
   "cell_type": "markdown",
   "id": "60f6163c",
   "metadata": {},
   "source": [
    "***p-val < $\\normalsize \\alpha $ => отвергаем гипотезу о равенстве распределений.***"
   ]
  },
  {
   "cell_type": "markdown",
   "id": "218ead40",
   "metadata": {},
   "source": [
    "**Теперь оценим распределение в динамике (как оно менялось от недели к неделе) также при помощи теста Пирсона.**"
   ]
  },
  {
   "cell_type": "code",
   "execution_count": 26,
   "id": "7c3a949d",
   "metadata": {},
   "outputs": [
    {
     "name": "stdout",
     "output_type": "stream",
     "text": [
      "1 и 2 неделя: 0.0 \n",
      " 2 и 3 неделя: 0.34554906971350013 \n",
      " 3 и 4 неделя: 1.431091728745176e-57 \n",
      "\n"
     ]
    }
   ],
   "source": [
    "print('1 и 2 неделя:', sp.stats.chi2_contingency(pass_list[0:2]).pvalue,'\\n',\n",
    "    '2 и 3 неделя:', sp.stats.chi2_contingency(pass_list[1:3]).pvalue,'\\n',\n",
    "    '3 и 4 неделя:', sp.stats.chi2_contingency(pass_list[2:4]).pvalue,'\\n')"
   ]
  },
  {
   "cell_type": "code",
   "execution_count": 27,
   "id": "7d27e00f",
   "metadata": {},
   "outputs": [
    {
     "data": {
      "text/plain": [
       "Chi2ContingencyResult(statistic=5.6145444260509025, pvalue=0.34554906971350013, dof=5, expected_freq=array([[527296.65867321, 103532.6617852 ,  23825.39147231,\n",
       "         11684.28891423,  10099.11077471,   6565.88838033],\n",
       "       [533498.34132679, 104750.3382148 ,  24105.60852769,\n",
       "         11821.71108577,  10217.88922529,   6643.11161967]]))"
      ]
     },
     "execution_count": 27,
     "metadata": {},
     "output_type": "execute_result"
    }
   ],
   "source": [
    "sp.stats.chi2_contingency(pass_list[1:3])"
   ]
  },
  {
   "cell_type": "markdown",
   "id": "10d736cb",
   "metadata": {},
   "source": [
    "***1 и 2 неделя: p-val < $\\normalsize \\alpha $ => отвергаем гипотезу о равенстве распределений.***\n",
    "\n",
    "***2 и 3 неделя: p-val > $\\normalsize \\alpha $ => принимаем гипотезу о равенстве распределений.***\n",
    "\n",
    "***3 и 4 неделя: p-val < $\\normalsize \\alpha $ => отвергаем гипотезу о равенстве распределений.***\n"
   ]
  },
  {
   "cell_type": "markdown",
   "id": "65435a84",
   "metadata": {},
   "source": [
    "  **Как и ожидалось распределения числа пассажиров 2 и 3 недели одианаковы.**"
   ]
  },
  {
   "cell_type": "markdown",
   "id": "c2894c73",
   "metadata": {},
   "source": [
    "**Проверим резльтаты теста бутстрапом**"
   ]
  },
  {
   "cell_type": "code",
   "execution_count": 28,
   "id": "1f111248",
   "metadata": {},
   "outputs": [
    {
     "name": "stderr",
     "output_type": "stream",
     "text": [
      "100%|███████████████████████████████████████████████████████████████████████████████████| 1/1 [00:00<00:00, 334.07it/s]"
     ]
    },
    {
     "name": "stdout",
     "output_type": "stream",
     "text": [
      "Наблюдаемая статистика Хи-квадрат распределений 1 и 2 недель: 3329.7643874603955\n",
      "p-value: 0.0\n",
      "Отвергаем нулевую гипотезу - распределения 1 и 2 недель различны. \n",
      "\n",
      "Наблюдаемая статистика Хи-квадрат распределений 2 и 3 недель: 5.6145444260509025\n",
      "p-value: 0.0\n",
      "Отвергаем нулевую гипотезу - распределения 2 и 3 недель различны. \n",
      "\n",
      "Наблюдаемая статистика Хи-квадрат распределений 3 и 4 недель: 276.01205021809574\n",
      "p-value: 0.0\n",
      "Отвергаем нулевую гипотезу - распределения 3 и 4 недель различны.\n"
     ]
    },
    {
     "name": "stderr",
     "output_type": "stream",
     "text": [
      "\n"
     ]
    }
   ],
   "source": [
    "observed_statistic_1_2 = sp.stats.chi2_contingency(pass_list[0:2]).statistic\n",
    "observed_statistic_2_3 = sp.stats.chi2_contingency(pass_list[1:3]).statistic\n",
    "observed_statistic_3_4 = sp.stats.chi2_contingency(pass_list[2:4]).statistic\n",
    "\n",
    "bootstrap_statistics_1_2 = []\n",
    "bootstrap_statistics_2_3 = []\n",
    "bootstrap_statistics_3_4 = []\n",
    "\n",
    "for _ in tqdm(range(1)):\n",
    "    bootstrap_w1 = np.random.choice(passenger_w1, size = len(passenger_w1), replace=True)\n",
    "    bootstrap_w2 = np.random.choice(passenger_w2, size = len(passenger_w2), replace=True)\n",
    "    bootstrap_w3 = np.random.choice(passenger_w3, size = len(passenger_w3), replace=True)\n",
    "    bootstrap_w4 = np.random.choice(passenger_w4, size = len(passenger_w4), replace=True)\n",
    "    \n",
    "    bootstrap_statistic_1_2 = sp.stats.chi2_contingency(bootstrap_w1, bootstrap_w2).statistic\n",
    "    bootstrap_statistic_2_3 = sp.stats.chi2_contingency(bootstrap_w2, bootstrap_w3).statistic\n",
    "    bootstrap_statistic_3_4 = sp.stats.chi2_contingency(bootstrap_w3, bootstrap_w4).statistic\n",
    "    \n",
    "    bootstrap_statistics_1_2.append(bootstrap_statistic_1_2)\n",
    "    bootstrap_statistics_2_3.append(bootstrap_statistic_2_3)\n",
    "    bootstrap_statistics_3_4.append(bootstrap_statistic_3_4)\n",
    "    bootstrap_statistic_1_2 = 0\n",
    "    bootstrap_statistic_2_3 = 0\n",
    "    bootstrap_statistic_3_4 = 0\n",
    "    \n",
    "p_value_1_2 = np.mean(np.array(bootstrap_statistic_1_2) >= observed_statistic_1_2)\n",
    "p_value_2_3 = np.mean(np.array(bootstrap_statistic_2_3) >= observed_statistic_2_3)\n",
    "p_value_3_4 = np.mean(np.array(bootstrap_statistic_3_4) >= observed_statistic_3_4)\n",
    "\n",
    "print(\"Наблюдаемая статистика Хи-квадрат распределений 1 и 2 недель:\", observed_statistic_1_2)\n",
    "print(\"p-value:\", p_value_1_2)\n",
    "\n",
    "if p_value_1_2 < 0.05:\n",
    "    print(\"Отвергаем нулевую гипотезу - распределения 1 и 2 недель различны.\", '\\n')\n",
    "else:\n",
    "    print(\"Принимаем нулевую гипотезу - распредения 1 и 2 недель одинаковы.\", '\\n')\n",
    "\n",
    "print(\"Наблюдаемая статистика Хи-квадрат распределений 2 и 3 недель:\", observed_statistic_2_3)\n",
    "print(\"p-value:\", p_value_2_3)\n",
    "\n",
    "if p_value_2_3 < 0.05:\n",
    "    print(\"Отвергаем нулевую гипотезу - распределения 2 и 3 недель различны.\", '\\n')\n",
    "else:\n",
    "    print(\"Принимаем нулевую гипотезу - распредения 2 и 3 недель одинаковы.\", '\\n')\n",
    "    \n",
    "print(\"Наблюдаемая статистика Хи-квадрат распределений 3 и 4 недель:\", observed_statistic_3_4)\n",
    "print(\"p-value:\", p_value_3_4)\n",
    "\n",
    "if p_value_3_4 < 0.05:\n",
    "    print(\"Отвергаем нулевую гипотезу - распределения 3 и 4 недель различны.\")\n",
    "else:\n",
    "    print(\"Принимаем нулевую гипотезу - распредения 3 и 4 недель одинаковы.\")\n",
    "    "
   ]
  },
  {
   "cell_type": "markdown",
   "id": "f93c5ea4",
   "metadata": {},
   "source": [
    "**Результаты бутстрапа совпали с результатами теста.**"
   ]
  },
  {
   "cell_type": "markdown",
   "id": "8b18cf48",
   "metadata": {},
   "source": [
    "## Вывод: Распределения метрик менялись каждую неделю. Спрос на поездки в такси падал в течение месяца."
   ]
  }
 ],
 "metadata": {
  "kernelspec": {
   "display_name": "Python 3 (ipykernel)",
   "language": "python",
   "name": "python3"
  },
  "language_info": {
   "codemirror_mode": {
    "name": "ipython",
    "version": 3
   },
   "file_extension": ".py",
   "mimetype": "text/x-python",
   "name": "python",
   "nbconvert_exporter": "python",
   "pygments_lexer": "ipython3",
   "version": "3.11.4"
  }
 },
 "nbformat": 4,
 "nbformat_minor": 5
}
