{
 "cells": [
  {
   "cell_type": "markdown",
   "id": "6b5be63f",
   "metadata": {},
   "source": [
    "**Поиск экстремумов функции:**"
   ]
  },
  {
   "cell_type": "code",
   "execution_count": 1,
   "id": "4c61e680",
   "metadata": {},
   "outputs": [
    {
     "name": "stdout",
     "output_type": "stream",
     "text": [
      "Максимальное значение: 1.414213562643511\n",
      "Оптимальное решение: [0.84089642 0.84089642]\n",
      "Успешно ли завершение итерации: True\n",
      "Причина прекращения итерации: Optimization terminated successfully\n"
     ]
    }
   ],
   "source": [
    "from scipy.optimize import minimize\n",
    "import numpy as np\n",
    "e = 1e-10 # Очень близко к 0\n",
    "fun = lambda x : (x[0]**2 + x[1]**2 ) \n",
    "cons = ({'type': 'eq', 'fun': lambda x: x[0]**4 + x[1]**4 - 1}, # x^2 + y^2 + z^21\n",
    "        {'type': 'ineq', 'fun': lambda x: x[0] - e}, # x> = e эквивалентно x> 0\n",
    "        {'type': 'ineq', 'fun': lambda x: x[1] - e},\n",
    "       )\n",
    "x0 = np.array((1.0, 1.0)) # Установить начальное значение\n",
    "res = minimize(fun, x0, method='SLSQP', constraints=cons)\n",
    "print('Максимальное значение:',res.fun)\n",
    "print('Оптимальное решение:',res.x)\n",
    "print('Успешно ли завершение итерации:', res.success)\n",
    "print('Причина прекращения итерации:', res.message)"
   ]
  },
  {
   "cell_type": "markdown",
   "id": "78b06c6a",
   "metadata": {},
   "source": [
    "$ \\large \\frac{1}{\\sqrt[4]{2}}  = 0.84 $"
   ]
  },
  {
   "cell_type": "code",
   "execution_count": 2,
   "id": "632dab88",
   "metadata": {},
   "outputs": [
    {
     "name": "stdout",
     "output_type": "stream",
     "text": [
      "Requirement already satisfied: ortools in c:\\users\\admin\\anaconda3\\lib\\site-packages (9.8.3296)\n",
      "Requirement already satisfied: absl-py>=2.0.0 in c:\\users\\admin\\anaconda3\\lib\\site-packages (from ortools) (2.1.0)\n",
      "Requirement already satisfied: numpy>=1.13.3 in c:\\users\\admin\\anaconda3\\lib\\site-packages (from ortools) (1.24.3)\n",
      "Requirement already satisfied: pandas>=2.0.0 in c:\\users\\admin\\anaconda3\\lib\\site-packages (from ortools) (2.2.0)\n",
      "Requirement already satisfied: protobuf>=4.25.0 in c:\\users\\admin\\anaconda3\\lib\\site-packages (from ortools) (4.25.2)\n",
      "Requirement already satisfied: python-dateutil>=2.8.2 in c:\\users\\admin\\anaconda3\\lib\\site-packages (from pandas>=2.0.0->ortools) (2.8.2)\n",
      "Requirement already satisfied: pytz>=2020.1 in c:\\users\\admin\\anaconda3\\lib\\site-packages (from pandas>=2.0.0->ortools) (2022.7)\n",
      "Requirement already satisfied: tzdata>=2022.7 in c:\\users\\admin\\anaconda3\\lib\\site-packages (from pandas>=2.0.0->ortools) (2023.4)\n",
      "Requirement already satisfied: six>=1.5 in c:\\users\\admin\\anaconda3\\lib\\site-packages (from python-dateutil>=2.8.2->pandas>=2.0.0->ortools) (1.16.0)\n"
     ]
    }
   ],
   "source": [
    "!pip install ortools"
   ]
  },
  {
   "cell_type": "code",
   "execution_count": 3,
   "id": "890e5c1f",
   "metadata": {},
   "outputs": [],
   "source": [
    "import math\n",
    "import time\n",
    "import random\n",
    "from copy import deepcopy\n",
    "from ortools.constraint_solver import routing_enums_pb2\n",
    "from ortools.constraint_solver import pywrapcp"
   ]
  },
  {
   "cell_type": "code",
   "execution_count": 4,
   "id": "3e6c2ae3",
   "metadata": {},
   "outputs": [
    {
     "name": "stdout",
     "output_type": "stream",
     "text": [
      "Objective: 18 miles\n",
      "Route for vehicle 0:\n",
      " 0 -> 1 -> 3 -> 4 -> 2 -> 0\n",
      "\n"
     ]
    }
   ],
   "source": [
    "def create_data_model():\n",
    "    data = {}\n",
    "    data[\"distance_matrix\"] = [[0, 4, 5, 7, 5],\n",
    "                               [8, 0, 5, 6, 6],\n",
    "                               [3, 5, 0, 9, 6],\n",
    "                               [3, 5, 6, 0, 2],\n",
    "                               [6, 2, 3, 8, 0]\n",
    "    ]\n",
    "    data[\"num_vehicles\"] = 1\n",
    "    data[\"depot\"] = 0\n",
    "    return data\n",
    "\n",
    "\n",
    "def print_solution(manager, routing, solution):\n",
    "    print(f\"Objective: {solution.ObjectiveValue()} miles\")\n",
    "    index = routing.Start(0)\n",
    "    plan_output = \"Route for vehicle 0:\\n\"\n",
    "    route_distance = 0\n",
    "    while not routing.IsEnd(index):\n",
    "        plan_output += f\" {manager.IndexToNode(index)} ->\"\n",
    "        previous_index = index\n",
    "        index = solution.Value(routing.NextVar(index))\n",
    "        route_distance += routing.GetArcCostForVehicle(previous_index, index, 0)\n",
    "    plan_output += f\" {manager.IndexToNode(index)}\\n\"\n",
    "    print(plan_output)\n",
    "    plan_output += f\"Route distance: {route_distance}miles\\n\"\n",
    "\n",
    "\n",
    "def main():\n",
    "    data = create_data_model()\n",
    "\n",
    "    manager = pywrapcp.RoutingIndexManager(\n",
    "        len(data[\"distance_matrix\"]), data[\"num_vehicles\"], data[\"depot\"]\n",
    "    )\n",
    "\n",
    "    routing = pywrapcp.RoutingModel(manager)\n",
    "\n",
    "\n",
    "    def distance_callback(from_index, to_index):\n",
    "        from_node = manager.IndexToNode(from_index)\n",
    "        to_node = manager.IndexToNode(to_index)\n",
    "        return data[\"distance_matrix\"][from_node][to_node]\n",
    "\n",
    "    transit_callback_index = routing.RegisterTransitCallback(distance_callback)\n",
    "\n",
    "    routing.SetArcCostEvaluatorOfAllVehicles(transit_callback_index)\n",
    "\n",
    "    search_parameters = pywrapcp.DefaultRoutingSearchParameters()\n",
    "    search_parameters.first_solution_strategy = (\n",
    "        routing_enums_pb2.FirstSolutionStrategy.PATH_CHEAPEST_ARC\n",
    "    )\n",
    "\n",
    "    solution = routing.SolveWithParameters(search_parameters)\n",
    "\n",
    "    if solution:\n",
    "        print_solution(manager, routing, solution)\n",
    "\n",
    "\n",
    "if __name__ == \"__main__\":\n",
    "    main()"
   ]
  },
  {
   "cell_type": "code",
   "execution_count": 5,
   "id": "fd253c83",
   "metadata": {},
   "outputs": [],
   "source": [
    "def compute_way_cost(matrix, path):\n",
    "    total_cost = 0\n",
    "    for i in range(0, len(path)-1):\n",
    "        first_city = path[i]\n",
    "        second_city = path[i+1]\n",
    "        if matrix[first_city][second_city] == '*':\n",
    "            return False\n",
    "        total_cost += matrix[first_city][second_city]\n",
    "    first_city = path[-1]\n",
    "    second_city = path[0]\n",
    "    if matrix[first_city][second_city] == \"*\":\n",
    "        return False\n",
    "    total_cost += matrix[first_city][second_city]\n",
    "    return total_cost\n",
    "\n",
    "\n",
    "def get_new_way(path):\n",
    "    new_way = deepcopy(path)\n",
    "    first = random.randint(0, len(path)-1)\n",
    "    second = random.randint(0, len(path)-1)\n",
    "    while second == first:\n",
    "        second = random.randint(0, len(path)-1)\n",
    "\n",
    "    new_way[first], new_way[second] = new_way[second], new_way[first]\n",
    "    return new_way\n",
    "\n",
    "                            \n",
    "def simulated_annealing(matrix, t_0=1000.0, t_min=0.005):\n",
    "    length = len(matrix)\n",
    "    template = list(range(0, length))\n",
    "\n",
    "    global start_time\n",
    "    start_time = time.time()\n",
    "    global_min_cost = False\n",
    "    \n",
    "    while not global_min_cost:\n",
    "        random.shuffle(template)\n",
    "        global_min_cost = compute_way_cost(matrix, template)\n",
    "        global_min_way = template\n",
    "    t_k = t_0\n",
    "    k = 1\n",
    "    current_way = template\n",
    "    current_way_cost = compute_way_cost(matrix, template)\n",
    "\n",
    "    while t_k > t_min:\n",
    "        t_k = t_0/(1+k)\n",
    "        k += 1\n",
    "                                              \n",
    "        cost = False\n",
    "        while not cost:\n",
    "            new_way = get_new_way(current_way)\n",
    "            cost = compute_way_cost(matrix, new_way)\n",
    "        dcost = cost - current_way_cost\n",
    "        if dcost <= 0:\n",
    "            current_way_cost = cost\n",
    "            current_way = new_way\n",
    "        else:\n",
    "            change_prob = math.exp(-dcost/t_k)\n",
    "            random_point = random. random()\n",
    "            if random_point > change_prob:\n",
    "                continue\n",
    "            else:\n",
    "                current_way_cost = cost\n",
    "                current_way = new_way\n",
    "\n",
    "        if current_way_cost < global_min_cost and current_way_cost != False:\n",
    "            global_min_cost = current_way_cost\n",
    "            global_min_way = current_way\n",
    "                                              \n",
    "    return global_min_way, global_min_cost, k, matrix"
   ]
  },
  {
   "cell_type": "code",
   "execution_count": 6,
   "id": "a9de0e9e",
   "metadata": {},
   "outputs": [
    {
     "name": "stdout",
     "output_type": "stream",
     "text": [
      "Алгоритм иммитации отжига:\n",
      "Кол-во итераций 20000\n",
      "Время выоплнения 0.10748171806335449 секунд\n",
      "Маршрут обхода 4-5-3-1-2-4\n",
      "Стоимость 18\n"
     ]
    }
   ],
   "source": [
    "matrix = [['*', 4, 5, 7, 5],\n",
    "          [8, '*', 5, 6, 6],\n",
    "          [3, 5, '*', 9, 6],\n",
    "          [3, 5, 6, '*', 2],\n",
    "          [6, 2, 3, 8, '*']\n",
    "]\n",
    "\n",
    "a, b, c, m = simulated_annealing(matrix, t_0 = 100, t_min = 0.005)\n",
    "seconds = time.time() - start_time\n",
    "a = '-'.join([str(i+1) for i in a])+f'-{str(a[0]+1)}'\n",
    "print('Алгоритм иммитации отжига:')\n",
    "print('Кол-во итераций', c)\n",
    "print('Время выоплнения', seconds, 'секунд')\n",
    "print('Маршрут обхода', a)\n",
    "print('Стоимость', round(b,1))"
   ]
  },
  {
   "cell_type": "markdown",
   "id": "1f188d2d",
   "metadata": {},
   "source": [
    "**При увеличении начальной температуры, в точности не проиграем, увеличится время выполнения.**\n",
    "\n",
    "**При увеличении минимальнной температуры отжига, с большей вероятностью будем отлавливать неверный результат.**"
   ]
  }
 ],
 "metadata": {
  "kernelspec": {
   "display_name": "Python 3 (ipykernel)",
   "language": "python",
   "name": "python3"
  },
  "language_info": {
   "codemirror_mode": {
    "name": "ipython",
    "version": 3
   },
   "file_extension": ".py",
   "mimetype": "text/x-python",
   "name": "python",
   "nbconvert_exporter": "python",
   "pygments_lexer": "ipython3",
   "version": "3.11.4"
  }
 },
 "nbformat": 4,
 "nbformat_minor": 5
}
